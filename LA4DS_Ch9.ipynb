{
 "cells": [
  {
   "cell_type": "markdown",
   "id": "9837e655",
   "metadata": {},
   "source": [
    "# Companion to the chapter 9 of LA4DS"
   ]
  },
  {
   "cell_type": "code",
   "execution_count": 1,
   "id": "344ef03d",
   "metadata": {},
   "outputs": [],
   "source": [
    "import numpy as np\n",
    "import matplotlib.pyplot as plt\n",
    "from latools import projection, second_projection, enorm, matrix\n",
    "import math"
   ]
  },
  {
   "cell_type": "code",
   "execution_count": 2,
   "id": "2f4bd25c",
   "metadata": {},
   "outputs": [],
   "source": [
    "A = 1/2**0.5 * np.array([[1, 1], [-1, 1]])"
   ]
  },
  {
   "cell_type": "code",
   "execution_count": 3,
   "id": "57900792",
   "metadata": {},
   "outputs": [
    {
     "data": {
      "text/plain": [
       "(-2.0, 2.0, -2.0, 2.0)"
      ]
     },
     "execution_count": 3,
     "metadata": {},
     "output_type": "execute_result"
    },
    {
     "data": {
      "image/png": "[encoded data removed]",
      "text/plain": [
       "<Figure size 640x480 with 1 Axes>"
      ]
     },
     "metadata": {},
     "output_type": "display_data"
    }
   ],
   "source": [
    "plt.arrow(0,0, *A[0], color = 'green', length_includes_head=True, width=0.01, head_width=0.1)\n",
    "plt.arrow(0,0, *A[1], color = 'orange', length_includes_head=True, width=0.01, head_width=0.1)\n",
    "circle1 = plt.Circle((0, 0), 1, color='b', fill=False, linestyle=':', linewidth=1)\n",
    "plt.gca().add_patch(circle1)\n",
    "\n",
    "plt.axis('square')\n",
    "plt.axis([-2,2,-2,2])"
   ]
  },
  {
   "cell_type": "markdown",
   "id": "0890804f",
   "metadata": {},
   "source": [
    "Let's try ortogonalization"
   ]
  },
  {
   "cell_type": "code",
   "execution_count": 4,
   "id": "7a255aac",
   "metadata": {},
   "outputs": [
    {
     "data": {
      "text/plain": [
       "array([[-1, -3],\n",
       "       [-1, -5]])"
      ]
     },
     "execution_count": 4,
     "metadata": {},
     "output_type": "execute_result"
    }
   ],
   "source": [
    "B = np.random.randint(-5, 5, (2,2))\n",
    "B"
   ]
  },
  {
   "cell_type": "code",
   "execution_count": 5,
   "id": "dae83564",
   "metadata": {},
   "outputs": [
    {
     "data": {
      "text/plain": [
       "array([-0.70710678, -0.70710678])"
      ]
     },
     "execution_count": 5,
     "metadata": {},
     "output_type": "execute_result"
    }
   ],
   "source": [
    "# First column\n",
    "q_0 = enorm(B[:, 0], 1)\n",
    "q_0"
   ]
  },
  {
   "cell_type": "code",
   "execution_count": 6,
   "id": "52a11f2d",
   "metadata": {},
   "outputs": [
    {
     "name": "stdout",
     "output_type": "stream",
     "text": [
      "Help on function second_projection in module latools:\n",
      "\n",
      "second_projection(projected, base)\n",
      "    Calculates the projection ortogonal to the base\n",
      "\n"
     ]
    }
   ],
   "source": [
    "help(second_projection)"
   ]
  },
  {
   "cell_type": "code",
   "execution_count": 7,
   "id": "11470229",
   "metadata": {},
   "outputs": [
    {
     "data": {
      "text/plain": [
       "array([ 0.70710678, -0.70710678])"
      ]
     },
     "execution_count": 7,
     "metadata": {},
     "output_type": "execute_result"
    }
   ],
   "source": [
    "# Second column\n",
    "q_1 = enorm(second_projection(B[:,1], q_0), 1)\n",
    "q_1"
   ]
  },
  {
   "cell_type": "code",
   "execution_count": 8,
   "id": "a5935dcb",
   "metadata": {},
   "outputs": [
    {
     "data": {
      "text/plain": [
       "array([[-0.70710678, -0.70710678],\n",
       "       [ 0.70710678, -0.70710678]])"
      ]
     },
     "execution_count": 8,
     "metadata": {},
     "output_type": "execute_result"
    }
   ],
   "source": [
    "Q = np.array([q_0, q_1])\n",
    "Q"
   ]
  },
  {
   "cell_type": "code",
   "execution_count": 9,
   "id": "30828a9b",
   "metadata": {},
   "outputs": [
    {
     "data": {
      "text/plain": [
       "(-3.185355339059327,\n",
       " 2.3185337482371984,\n",
       " -5.250176776695296,\n",
       " 0.25371231060122934)"
      ]
     },
     "execution_count": 9,
     "metadata": {},
     "output_type": "execute_result"
    },
    {
     "data": {
      "image/png": "[encoded data removed]",
      "text/plain": [
       "<Figure size 640x480 with 1 Axes>"
      ]
     },
     "metadata": {},
     "output_type": "display_data"
    }
   ],
   "source": [
    "plt.arrow(0,0, *B[:, 0], color='navy', width=0.01,length_includes_head=True, head_width=0.1)\n",
    "plt.arrow(0,0, *B[:, 1], color='darkviolet', width=0.01, length_includes_head=True, head_width=0.1)\n",
    "plt.arrow(0,0, *q_0, color='r', width=0.01, length_includes_head=True, head_width=0.1)\n",
    "plt.arrow(0,0, *q_1, color='brown', width=0.01, length_includes_head=True, head_width=0.1)\n",
    "\n",
    "plt.axis([-6, 6, -6, 6])\n",
    "plt.axis('square')"
   ]
  },
  {
   "cell_type": "code",
   "execution_count": 12,
   "id": "89dc36d7",
   "metadata": {},
   "outputs": [
    {
     "data": {
      "text/plain": [
       "array([[ 1., -0.],\n",
       "       [-0.,  1.]])"
      ]
     },
     "execution_count": 12,
     "metadata": {},
     "output_type": "execute_result"
    }
   ],
   "source": [
    "# Let us see that QtQ is E\n",
    "\n",
    "np.round(Q.T @ Q, 5)"
   ]
  },
  {
   "cell_type": "code",
   "execution_count": 13,
   "id": "3b33a32e",
   "metadata": {},
   "outputs": [
    {
     "data": {
      "text/plain": [
       "array([[ 0.     , -1.41421],\n",
       "       [ 1.41421,  5.65685]])"
      ]
     },
     "execution_count": 13,
     "metadata": {},
     "output_type": "execute_result"
    }
   ],
   "source": [
    "# Now let-s find a QR ortogonalization\n",
    "\n",
    "# B = QR\n",
    "# QtB = QtQR\n",
    "# QtB = R\n",
    "\n",
    "R = np.round(Q.T @ B, 5)\n",
    "R"
   ]
  },
  {
   "cell_type": "code",
   "execution_count": 14,
   "id": "e31975e1",
   "metadata": {},
   "outputs": [
    {
     "data": {
      "text/plain": [
       "array([[ True,  True],\n",
       "       [ True, False]])"
      ]
     },
     "execution_count": 14,
     "metadata": {},
     "output_type": "execute_result"
    }
   ],
   "source": [
    "np.round(Q @ R, 5) == B #> True"
   ]
  },
  {
   "cell_type": "markdown",
   "id": "4de9c846",
   "metadata": {},
   "source": [
    "Comparing with np realization"
   ]
  },
  {
   "cell_type": "code",
   "execution_count": 15,
   "id": "74cdd19c",
   "metadata": {},
   "outputs": [
    {
     "data": {
      "text/plain": [
       "(array([[-0.70710678, -0.70710678],\n",
       "        [ 0.70710678, -0.70710678]]),\n",
       " array([[ 0.     , -1.41421],\n",
       "        [ 1.41421,  5.65685]]))"
      ]
     },
     "execution_count": 15,
     "metadata": {},
     "output_type": "execute_result"
    }
   ],
   "source": [
    "Q,R"
   ]
  },
  {
   "cell_type": "code",
   "execution_count": 16,
   "id": "44350aaf",
   "metadata": {},
   "outputs": [
    {
     "data": {
      "text/plain": [
       "QRResult(Q=array([[-0.70710678, -0.70710678],\n",
       "       [-0.70710678,  0.70710678]]), R=array([[ 1.41421356,  5.65685425],\n",
       "       [ 0.        , -1.41421356]]))"
      ]
     },
     "execution_count": 16,
     "metadata": {},
     "output_type": "execute_result"
    }
   ],
   "source": [
    "np.linalg.qr(B)"
   ]
  },
  {
   "cell_type": "markdown",
   "id": "b66e6851",
   "metadata": {},
   "source": [
    "# Exercises"
   ]
  },
  {
   "cell_type": "markdown",
   "id": "606fe913",
   "metadata": {},
   "source": [
    "## Exercise 9.1\n",
    "\n",
    "Illustrate that\n",
    "\n",
    "$$ Q^TQ = QQ^T = Q^{-1}Q = QQ^{-1} = E $$"
   ]
  },
  {
   "cell_type": "markdown",
   "id": "25b9a6fd",
   "metadata": {},
   "source": [
    "Well, the first two are obvious due to the fact that Q^T is an inverse matrix of Q. \n",
    "And the last two are true for any invertible matrix. \n",
    "\n",
    "Let us however prove that Q^t is an inverse of Q;\n",
    "\n",
    "Consider $$ K = Q^TQ$$\n",
    "\n",
    "The i,j element of K equals to\n",
    "\n",
    "$$k_{i,j} = q'_i * \\hat{q_j} $$\n",
    "\n",
    "where q'_i is a row in Q^T and q_j is a column in Q, meaning that\n",
    "\n",
    "$$ k_{i,j} = \\hat{q_i} * \\hat{q_j} <=> k_{i,j} = 0 (i\\neq j) OR k_{i,j} = 1 (i=j) <=> K=E => Q^T = Q^{-1} $$\n",
    "\n",
    "I hope that replaces illustaration with random matrices\n"
   ]
  },
  {
   "cell_type": "markdown",
   "id": "f333f27b",
   "metadata": {},
   "source": [
    "## Exercise 9.2\n",
    "\n",
    "GS-ortogonalization"
   ]
  },
  {
   "cell_type": "markdown",
   "id": "5607bf29",
   "metadata": {},
   "source": [
    "Well the majority of GS-procedure was made in the first part, but only for the 2x2 matrix; let's do the case for matrices of all sizes"
   ]
  },
  {
   "cell_type": "markdown",
   "id": "01399c28",
   "metadata": {},
   "source": [
    "In order to prove that we need to consider the following fact:\n",
    "\n",
    "if c - vector, a and b - two projections on some plane, a.b = 0 ('.' denotes dot product);\n",
    "\n",
    "d = c - (a+b) perpendicular to that plane\n",
    "_____________________________________\n",
    "1)\n",
    "let's prove that c - (a+b) is perpendicular to a\n",
    "\n",
    "Consider a.(c - (a+b)) \n",
    "\n",
    "a.(c - (a+b)) = a.c - a.(a+b) = a.c - a.a - a.b = (1);\n",
    "\n",
    "a.b equals zero, hence\n",
    "\n",
    "(1) = a.c - a.a = a.(c-a) = 0, because c-a is perpendicular to a (a is projection);\n",
    "\n",
    "2) \n",
    "The same logic naturally applies to b; since d is perpendicular to two vectors of a plane, it means that d perpendicular to the plane, q.e.d\n",
    "\n",
    "HOWEVER, it is not enough for the proof for any number of vectors; I might need to revisit it later\n"
   ]
  },
  {
   "cell_type": "code",
   "execution_count": 19,
   "id": "c02ebc81",
   "metadata": {},
   "outputs": [],
   "source": [
    "def gs_q(X):\n",
    "    Q = []\n",
    "    Q.append(enorm(X[:,0],1))\n",
    "    for i in range(1, X.shape[1]):\n",
    "        p = np.sum([projection(X[:,i], q) for q in Q], axis=0) # sum of projections\n",
    "        q = X[:,i] - p # obtaining perpendicular\n",
    "        q = enorm (q,1) # normalizing vector\n",
    "        Q.append(q)\n",
    "    return np.column_stack(Q) # creates column matrix"
   ]
  },
  {
   "cell_type": "code",
   "execution_count": 23,
   "id": "f94e9589",
   "metadata": {},
   "outputs": [
    {
     "data": {
      "text/plain": [
       "array([[  3,  -6,  -1,   2,   8],\n",
       "       [  6,  -3,   7,   0,   6],\n",
       "       [  8,   8,  -7,  -3,  -8],\n",
       "       [ -4,   3,   2, -10,   1],\n",
       "       [ -1,  -2,  -7,  -6, -10]])"
      ]
     },
     "execution_count": 23,
     "metadata": {},
     "output_type": "execute_result"
    }
   ],
   "source": [
    "# Test\n",
    "\n",
    "G = matrix(5)\n",
    "G"
   ]
  },
  {
   "cell_type": "code",
   "execution_count": 24,
   "id": "2d048fb1",
   "metadata": {},
   "outputs": [
    {
     "data": {
      "text/plain": [
       "array([[ 0.26726124, -0.58824786, -0.27897388, -0.11981727,  0.7002523 ],\n",
       "       [ 0.53452248, -0.35294872,  0.55238298, -0.4031084 , -0.3494132 ],\n",
       "       [ 0.71269665,  0.62746438, -0.27004923, -0.08905184,  0.13226912],\n",
       "       [-0.35634832,  0.32680437,  0.25251493, -0.745168  ,  0.38363478],\n",
       "       [-0.08908708, -0.16993827, -0.69307737, -0.50984494, -0.47210843]])"
      ]
     },
     "execution_count": 24,
     "metadata": {},
     "output_type": "execute_result"
    }
   ],
   "source": [
    "Q = gs_q(G)\n",
    "Q"
   ]
  },
  {
   "cell_type": "code",
   "execution_count": 25,
   "id": "831356c5",
   "metadata": {},
   "outputs": [
    {
     "data": {
      "text/plain": [
       "array([[-0.26726124, -0.58824786,  0.27897388, -0.11981727, -0.7002523 ],\n",
       "       [-0.53452248, -0.35294872, -0.55238298, -0.4031084 ,  0.3494132 ],\n",
       "       [-0.71269665,  0.62746438,  0.27004923, -0.08905184, -0.13226912],\n",
       "       [ 0.35634832,  0.32680437, -0.25251493, -0.745168  , -0.38363478],\n",
       "       [ 0.08908708, -0.16993827,  0.69307737, -0.50984494,  0.47210843]])"
      ]
     },
     "execution_count": 25,
     "metadata": {},
     "output_type": "execute_result"
    }
   ],
   "source": [
    "q,_ = np.linalg.qr(G)\n",
    "q"
   ]
  },
  {
   "cell_type": "code",
   "execution_count": 29,
   "id": "12ec9930",
   "metadata": {},
   "outputs": [
    {
     "data": {
      "text/plain": [
       "array([[ 0., -1., -0., -0.,  0.],\n",
       "       [ 0., -1., -0., -1.,  0.],\n",
       "       [ 0.,  1.,  0., -0.,  0.],\n",
       "       [-0.,  1.,  0., -1.,  0.],\n",
       "       [-0., -0.,  0., -1.,  0.]])"
      ]
     },
     "execution_count": 29,
     "metadata": {},
     "output_type": "execute_result"
    }
   ],
   "source": [
    "np.round(q + Q)"
   ]
  },
  {
   "cell_type": "code",
   "execution_count": 28,
   "id": "6d8d0432",
   "metadata": {},
   "outputs": [
    {
     "data": {
      "text/plain": [
       "array([[-1.,  0.,  1., -0., -1.],\n",
       "       [-1., -0., -1.,  0.,  1.],\n",
       "       [-1.,  0.,  1.,  0., -0.],\n",
       "       [ 1.,  0., -1.,  0., -1.],\n",
       "       [ 0.,  0.,  1.,  0.,  1.]])"
      ]
     },
     "execution_count": 28,
     "metadata": {},
     "output_type": "execute_result"
    }
   ],
   "source": [
    "np.round(q - Q)"
   ]
  },
  {
   "cell_type": "markdown",
   "id": "3141e8cd",
   "metadata": {},
   "source": [
    "In order to understand why we consider q+Q and q-Q, I address to Mike X Cohen's book"
   ]
  },
  {
   "cell_type": "markdown",
   "id": "6be482c8",
   "metadata": {},
   "source": [
    "## Exercise 9.3"
   ]
  },
  {
   "cell_type": "code",
   "execution_count": null,
   "id": "9259f2ef",
   "metadata": {},
   "outputs": [],
   "source": []
  }
 ],
 "metadata": {
  "kernelspec": {
   "display_name": "Python 3 (ipykernel)",
   "language": "python",
   "name": "python3"
  },
  "language_info": {
   "codemirror_mode": {
    "name": "ipython",
    "version": 3
   },
   "file_extension": ".py",
   "mimetype": "text/x-python",
   "name": "python",
   "nbconvert_exporter": "python",
   "pygments_lexer": "ipython3",
   "version": "3.9.13"
  }
 },
 "nbformat": 4,
 "nbformat_minor": 5
}
