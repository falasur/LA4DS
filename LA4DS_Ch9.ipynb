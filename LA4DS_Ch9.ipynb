{
 "cells": [
  {
   "cell_type": "markdown",
   "id": "9837e655",
   "metadata": {},
   "source": [
    "# Companion to the chapter 9 of LA4DS"
   ]
  },
  {
   "cell_type": "code",
   "execution_count": 158,
   "id": "344ef03d",
   "metadata": {},
   "outputs": [],
   "source": [
    "import numpy as np\n",
    "import pandas as pd\n",
    "import matplotlib.pyplot as plt\n",
    "from latools import projection, second_projection, enorm, matrix, frobenius_distance, frobenius_norm\n",
    "import math\n",
    "import seaborn as sns"
   ]
  },
  {
   "cell_type": "code",
   "execution_count": 2,
   "id": "2f4bd25c",
   "metadata": {},
   "outputs": [],
   "source": [
    "A = 1/2**0.5 * np.array([[1, 1], [-1, 1]])"
   ]
  },
  {
   "cell_type": "code",
   "execution_count": 3,
   "id": "57900792",
   "metadata": {},
   "outputs": [
    {
     "data": {
      "text/plain": [
       "(-2.0, 2.0, -2.0, 2.0)"
      ]
     },
     "execution_count": 3,
     "metadata": {},
     "output_type": "execute_result"
    },
    {
     "data": {
      "image/png": "[encoded data removed]",
      "text/plain": [
       "<Figure size 640x480 with 1 Axes>"
      ]
     },
     "metadata": {},
     "output_type": "display_data"
    }
   ],
   "source": [
    "plt.arrow(0,0, *A[0], color = 'green', length_includes_head=True, width=0.01, head_width=0.1)\n",
    "plt.arrow(0,0, *A[1], color = 'orange', length_includes_head=True, width=0.01, head_width=0.1)\n",
    "circle1 = plt.Circle((0, 0), 1, color='b', fill=False, linestyle=':', linewidth=1)\n",
    "plt.gca().add_patch(circle1)\n",
    "\n",
    "plt.axis('square')\n",
    "plt.axis([-2,2,-2,2])"
   ]
  },
  {
   "cell_type": "markdown",
   "id": "0890804f",
   "metadata": {},
   "source": [
    "Let's try ortogonalization"
   ]
  },
  {
   "cell_type": "code",
   "execution_count": 26,
   "id": "7a255aac",
   "metadata": {},
   "outputs": [
    {
     "data": {
      "text/plain": [
       "array([[-3,  4],\n",
       "       [-1,  2]])"
      ]
     },
     "execution_count": 26,
     "metadata": {},
     "output_type": "execute_result"
    }
   ],
   "source": [
    "B = np.random.randint(-5, 5, (2,2))\n",
    "B"
   ]
  },
  {
   "cell_type": "code",
   "execution_count": 27,
   "id": "dae83564",
   "metadata": {},
   "outputs": [
    {
     "data": {
      "text/plain": [
       "array([-0.9486833 , -0.31622777])"
      ]
     },
     "execution_count": 27,
     "metadata": {},
     "output_type": "execute_result"
    }
   ],
   "source": [
    "# First column\n",
    "q_0 = enorm(B[:, 0], 1)\n",
    "q_0"
   ]
  },
  {
   "cell_type": "code",
   "execution_count": 28,
   "id": "52a11f2d",
   "metadata": {},
   "outputs": [
    {
     "name": "stdout",
     "output_type": "stream",
     "text": [
      "Help on function second_projection in module latools:\n",
      "\n",
      "second_projection(projected, base)\n",
      "    Calculates the projection ortogonal to the base\n",
      "\n"
     ]
    }
   ],
   "source": [
    "help(second_projection)"
   ]
  },
  {
   "cell_type": "code",
   "execution_count": 29,
   "id": "11470229",
   "metadata": {},
   "outputs": [
    {
     "data": {
      "text/plain": [
       "array([-0.31622777,  0.9486833 ])"
      ]
     },
     "execution_count": 29,
     "metadata": {},
     "output_type": "execute_result"
    }
   ],
   "source": [
    "# Second column\n",
    "q_1 = enorm(second_projection(B[:,1], q_0), 1)\n",
    "q_1"
   ]
  },
  {
   "cell_type": "code",
   "execution_count": 30,
   "id": "a5935dcb",
   "metadata": {},
   "outputs": [
    {
     "data": {
      "text/plain": [
       "array([[-0.9486833 , -0.31622777],\n",
       "       [-0.31622777,  0.9486833 ]])"
      ]
     },
     "execution_count": 30,
     "metadata": {},
     "output_type": "execute_result"
    }
   ],
   "source": [
    "Q = np.column_stack([q_0, q_1])\n",
    "Q"
   ]
  },
  {
   "cell_type": "code",
   "execution_count": 31,
   "id": "30828a9b",
   "metadata": {},
   "outputs": [
    {
     "data": {
      "text/plain": [
       "(-3.35, 4.35, -1.15, 6.549999999999999)"
      ]
     },
     "execution_count": 31,
     "metadata": {},
     "output_type": "execute_result"
    },
    {
     "data": {
      "image/png": "[encoded data removed]",
      "text/plain": [
       "<Figure size 640x480 with 1 Axes>"
      ]
     },
     "metadata": {},
     "output_type": "display_data"
    }
   ],
   "source": [
    "plt.arrow(0,0, *B[:, 0], color='navy', width=0.01,length_includes_head=True, head_width=0.1)\n",
    "plt.arrow(0,0, *B[:, 1], color='darkviolet', width=0.01, length_includes_head=True, head_width=0.1)\n",
    "plt.arrow(0,0, *q_0, color='r', width=0.01, length_includes_head=True, head_width=0.1)\n",
    "plt.arrow(0,0, *q_1, color='brown', width=0.01, length_includes_head=True, head_width=0.1)\n",
    "\n",
    "plt.axis([-6, 6, -6, 6])\n",
    "plt.axis('square')"
   ]
  },
  {
   "cell_type": "code",
   "execution_count": 32,
   "id": "89dc36d7",
   "metadata": {},
   "outputs": [
    {
     "data": {
      "text/plain": [
       "array([[1., 0.],\n",
       "       [0., 1.]])"
      ]
     },
     "execution_count": 32,
     "metadata": {},
     "output_type": "execute_result"
    }
   ],
   "source": [
    "# Let us see that QtQ is E\n",
    "\n",
    "np.round(Q.T @ Q, 5)"
   ]
  },
  {
   "cell_type": "code",
   "execution_count": 33,
   "id": "3b33a32e",
   "metadata": {},
   "outputs": [
    {
     "data": {
      "text/plain": [
       "array([[ 3.16228, -4.42719],\n",
       "       [ 0.     ,  0.63246]])"
      ]
     },
     "execution_count": 33,
     "metadata": {},
     "output_type": "execute_result"
    }
   ],
   "source": [
    "# Now let-s find a QR ortogonalization\n",
    "\n",
    "# B = QR\n",
    "# QtB = QtQR\n",
    "# QtB = R\n",
    "\n",
    "R = np.round(Q.T @ B, 5)\n",
    "R"
   ]
  },
  {
   "cell_type": "code",
   "execution_count": 34,
   "id": "e31975e1",
   "metadata": {},
   "outputs": [
    {
     "data": {
      "text/plain": [
       "array([[ True,  True],\n",
       "       [ True,  True]])"
      ]
     },
     "execution_count": 34,
     "metadata": {},
     "output_type": "execute_result"
    }
   ],
   "source": [
    "np.round(Q @ R, 5) == B #> True"
   ]
  },
  {
   "cell_type": "markdown",
   "id": "4de9c846",
   "metadata": {},
   "source": [
    "Comparing with np realization"
   ]
  },
  {
   "cell_type": "code",
   "execution_count": 35,
   "id": "74cdd19c",
   "metadata": {},
   "outputs": [
    {
     "data": {
      "text/plain": [
       "(array([[-0.9486833 , -0.31622777],\n",
       "        [-0.31622777,  0.9486833 ]]),\n",
       " array([[ 3.16228, -4.42719],\n",
       "        [ 0.     ,  0.63246]]))"
      ]
     },
     "execution_count": 35,
     "metadata": {},
     "output_type": "execute_result"
    }
   ],
   "source": [
    "Q,R"
   ]
  },
  {
   "cell_type": "code",
   "execution_count": 36,
   "id": "44350aaf",
   "metadata": {},
   "outputs": [
    {
     "data": {
      "text/plain": [
       "QRResult(Q=array([[-0.9486833 , -0.31622777],\n",
       "       [-0.31622777,  0.9486833 ]]), R=array([[ 3.16227766, -4.42718872],\n",
       "       [ 0.        ,  0.63245553]]))"
      ]
     },
     "execution_count": 36,
     "metadata": {},
     "output_type": "execute_result"
    }
   ],
   "source": [
    "np.linalg.qr(B)"
   ]
  },
  {
   "cell_type": "markdown",
   "id": "b66e6851",
   "metadata": {},
   "source": [
    "# Exercises"
   ]
  },
  {
   "cell_type": "markdown",
   "id": "606fe913",
   "metadata": {},
   "source": [
    "## Exercise 9.1\n",
    "\n",
    "Illustrate that\n",
    "\n",
    "$$ Q^TQ = QQ^T = Q^{-1}Q = QQ^{-1} = E $$"
   ]
  },
  {
   "cell_type": "markdown",
   "id": "25b9a6fd",
   "metadata": {},
   "source": [
    "Well, the first two are obvious due to the fact that Q^T is an inverse matrix of Q. \n",
    "And the last two are true for any invertible matrix. \n",
    "\n",
    "Let us however prove that Q^t is an inverse of Q;\n",
    "\n",
    "Consider $$ K = Q^TQ$$\n",
    "\n",
    "The i,j element of K equals to\n",
    "\n",
    "$$k_{i,j} = q'_i * \\hat{q_j} $$\n",
    "\n",
    "where q'_i is a row in Q^T and q_j is a column in Q, meaning that\n",
    "\n",
    "$$ k_{i,j} = \\hat{q_i} * \\hat{q_j} <=> k_{i,j} = 0 (i\\neq j) OR k_{i,j} = 1 (i=j) <=> K=E => Q^T = Q^{-1} $$\n",
    "\n",
    "I hope that replaces illustaration with random matrices\n"
   ]
  },
  {
   "cell_type": "markdown",
   "id": "f333f27b",
   "metadata": {},
   "source": [
    "## Exercise 9.2\n",
    "\n",
    "GS-ortogonalization"
   ]
  },
  {
   "cell_type": "markdown",
   "id": "5607bf29",
   "metadata": {},
   "source": [
    "Well the majority of GS-procedure was made in the first part, but only for the 2x2 matrix; let's do the case for matrices of all sizes"
   ]
  },
  {
   "cell_type": "markdown",
   "id": "01399c28",
   "metadata": {},
   "source": [
    "In order to prove that we need to consider the following fact:\n",
    "\n",
    "if c - vector, a and b - two projections on some plane, a.b = 0 ('.' denotes dot product);\n",
    "\n",
    "d = c - (a+b) perpendicular to that plane\n",
    "_____________________________________\n",
    "1)\n",
    "let's prove that c - (a+b) is perpendicular to a\n",
    "\n",
    "Consider a.(c - (a+b)) \n",
    "\n",
    "a.(c - (a+b)) = a.c - a.(a+b) = a.c - a.a - a.b = (1);\n",
    "\n",
    "a.b equals zero, hence\n",
    "\n",
    "(1) = a.c - a.a = a.(c-a) = 0, because c-a is perpendicular to a (a is projection);\n",
    "\n",
    "2) \n",
    "The same logic naturally applies to b; since d is perpendicular to two vectors of a plane, it means that d perpendicular to the plane, q.e.d\n",
    "\n",
    "It might be applied to any number of vectors by virtue of mathematical induction;\n",
    "\n",
    "In fact, let us consider that vector minus sum of n projections of vector onto n-dimensional hyperplane is perpendicular to said hyperplane, let-s prove that that vector minus sum of the n+1 projections will be perpendicular to the n+1 hyperplane.\n",
    "\n",
    "It's easy: we just supplement vector b in the first part of our prove with sum of n projections, and vector b would be our n+1th projection.\n",
    "\n",
    "What we should have proved is the fact that there are n ortogonal vectors in a n-dimensional hyperplane, but I think it can be done via rank consideration\n"
   ]
  },
  {
   "cell_type": "code",
   "execution_count": 37,
   "id": "c02ebc81",
   "metadata": {},
   "outputs": [],
   "source": [
    "def gs_q(X):\n",
    "    Q = []\n",
    "    Q.append(enorm(X[:,0],1))\n",
    "    for i in range(1, X.shape[1]):\n",
    "        p = np.sum([projection(X[:,i], q) for q in Q], axis=0) # sum of projections\n",
    "        q = X[:,i] - p # obtaining perpendicular\n",
    "        q = enorm (q,1) # normalizing vector\n",
    "        Q.append(q)\n",
    "    return np.column_stack(Q) # creates column matrix"
   ]
  },
  {
   "cell_type": "code",
   "execution_count": 47,
   "id": "f94e9589",
   "metadata": {},
   "outputs": [
    {
     "data": {
      "text/plain": [
       "array([[  4,   5,   8,   6,  -8,   1,   1,  -5,  -2,   8],\n",
       "       [  8,   0,   7,   5,   8,  -9,  -4,   9,  -9,   2],\n",
       "       [ -2,  -2,  -9,  -1,   8,  -6,   3,   5,  -4,  -3],\n",
       "       [  0,   7,  -6,   6,  -6,  -7,  -9,   4,   8,  -9],\n",
       "       [ -4,  -5,  -9,   8,   8,  -4,   0,  -7,  -4, -10],\n",
       "       [ -7,  -9,  -6,   8,   4,  -7,   3,  -6,   9,  -6],\n",
       "       [  8,  -2, -10,  -6,   1,  -3,  -7,  -1,   4,  -7],\n",
       "       [ -6,   5,   7,  -8,   5,   0,  -1,  -8,  -6, -10],\n",
       "       [ -7, -10,  -7,  -8,   5,   7,   9,  -3,   2,  -1],\n",
       "       [  8,  -1,   1,   9,   0,   8,  -9,  -7,  -4,  -1]])"
      ]
     },
     "execution_count": 47,
     "metadata": {},
     "output_type": "execute_result"
    }
   ],
   "source": [
    "# Test\n",
    "\n",
    "G = matrix(10)\n",
    "G"
   ]
  },
  {
   "cell_type": "code",
   "execution_count": 48,
   "id": "2d048fb1",
   "metadata": {},
   "outputs": [
    {
     "data": {
      "text/plain": [
       "array([[ 0.21023533,  0.22067699,  0.21175899,  0.25488769, -0.28745506,\n",
       "        -0.08373159,  0.40104465, -0.60737514,  0.0519778 , -0.41857939],\n",
       "       [ 0.42047066, -0.16475429,  0.33389225,  0.11846492,  0.57556756,\n",
       "        -0.39142744, -0.02279194,  0.23158828, -0.15453636, -0.32865625],\n",
       "       [-0.10511767, -0.08003308, -0.38783058, -0.03408666,  0.4439107 ,\n",
       "         0.01929027,  0.5454868 ,  0.01362618,  0.57764881, -0.04606555],\n",
       "       [ 0.        ,  0.42427579, -0.58370568,  0.3148373 , -0.07273686,\n",
       "        -0.10192219, -0.2667685 ,  0.27215243, -0.0468919 , -0.46588109],\n",
       "       [-0.21023533, -0.22067699, -0.26431539,  0.41441834,  0.35503313,\n",
       "         0.23601977,  0.11617057, -0.32118771, -0.59598638,  0.10902668],\n",
       "       [-0.36791183, -0.40133744,  0.0594575 ,  0.44609656, -0.08995626,\n",
       "        -0.43456225, -0.35895789, -0.18776064,  0.37303492,  0.02890416],\n",
       "       [ 0.42047066, -0.28597595, -0.48289014, -0.43391668, -0.01237407,\n",
       "        -0.22041735, -0.26450838, -0.4471355 , -0.03609108, -0.00461227],\n",
       "       [-0.315353  ,  0.42661985,  0.20170576, -0.2568314 ,  0.47847332,\n",
       "         0.14788275, -0.40857384, -0.39153744,  0.13222415, -0.15289541],\n",
       "       [-0.36791183, -0.46194826,  0.04523928, -0.32562923, -0.14086168,\n",
       "         0.20536119,  0.04800639,  0.10751294, -0.11994139, -0.67297762],\n",
       "       [ 0.42047066, -0.22536512,  0.05689205,  0.29948079,  0.02591757,\n",
       "         0.68690416, -0.29727796, -0.00182234,  0.33168249, -0.09268067]])"
      ]
     },
     "execution_count": 48,
     "metadata": {},
     "output_type": "execute_result"
    }
   ],
   "source": [
    "Q = gs_q(G)\n",
    "Q"
   ]
  },
  {
   "cell_type": "code",
   "execution_count": 49,
   "id": "831356c5",
   "metadata": {},
   "outputs": [
    {
     "data": {
      "text/plain": [
       "array([[-0.21023533,  0.22067699,  0.21175899, -0.25488769,  0.28745506,\n",
       "        -0.08373159,  0.40104465,  0.60737514, -0.0519778 , -0.41857939],\n",
       "       [-0.42047066, -0.16475429,  0.33389225, -0.11846492, -0.57556756,\n",
       "        -0.39142744, -0.02279194, -0.23158828,  0.15453636, -0.32865625],\n",
       "       [ 0.10511767, -0.08003308, -0.38783058,  0.03408666, -0.4439107 ,\n",
       "         0.01929027,  0.5454868 , -0.01362618, -0.57764881, -0.04606555],\n",
       "       [-0.        ,  0.42427579, -0.58370568, -0.3148373 ,  0.07273686,\n",
       "        -0.10192219, -0.2667685 , -0.27215243,  0.0468919 , -0.46588109],\n",
       "       [ 0.21023533, -0.22067699, -0.26431539, -0.41441834, -0.35503313,\n",
       "         0.23601977,  0.11617057,  0.32118771,  0.59598638,  0.10902668],\n",
       "       [ 0.36791183, -0.40133744,  0.0594575 , -0.44609656,  0.08995626,\n",
       "        -0.43456225, -0.35895789,  0.18776064, -0.37303492,  0.02890416],\n",
       "       [-0.42047066, -0.28597595, -0.48289014,  0.43391668,  0.01237407,\n",
       "        -0.22041735, -0.26450838,  0.4471355 ,  0.03609108, -0.00461227],\n",
       "       [ 0.315353  ,  0.42661985,  0.20170576,  0.2568314 , -0.47847332,\n",
       "         0.14788275, -0.40857384,  0.39153744, -0.13222415, -0.15289541],\n",
       "       [ 0.36791183, -0.46194826,  0.04523928,  0.32562923,  0.14086168,\n",
       "         0.20536119,  0.04800639, -0.10751294,  0.11994139, -0.67297762],\n",
       "       [-0.42047066, -0.22536512,  0.05689205, -0.29948079, -0.02591757,\n",
       "         0.68690416, -0.29727796,  0.00182234, -0.33168249, -0.09268067]])"
      ]
     },
     "execution_count": 49,
     "metadata": {},
     "output_type": "execute_result"
    }
   ],
   "source": [
    "q,_ = np.linalg.qr(G)\n",
    "q"
   ]
  },
  {
   "cell_type": "code",
   "execution_count": 66,
   "id": "12ec9930",
   "metadata": {},
   "outputs": [
    {
     "data": {
      "text/plain": [
       "array([-0., -0., -0.,  0., -0., -0.,  0., -0., -0., -0.])"
      ]
     },
     "execution_count": 66,
     "metadata": {},
     "output_type": "execute_result"
    }
   ],
   "source": [
    "np.round(np.sum((q+Q), axis=0), 5) * np.round(np.sum((q-Q), axis=0), 5)"
   ]
  },
  {
   "cell_type": "markdown",
   "id": "3141e8cd",
   "metadata": {},
   "source": [
    "In order to understand why we consider q+Q and q-Q, I address to Mike X Cohen's book"
   ]
  },
  {
   "cell_type": "markdown",
   "id": "6be482c8",
   "metadata": {},
   "source": [
    "## Exercise 9.3"
   ]
  },
  {
   "cell_type": "code",
   "execution_count": 67,
   "id": "9259f2ef",
   "metadata": {},
   "outputs": [
    {
     "data": {
      "text/plain": [
       "array([[-0.13159034,  0.34395729, -0.24644205,  0.65449874, -0.3740659 ,\n",
       "        -0.48512863],\n",
       "       [ 0.06579517, -0.29163849,  0.32565997, -0.40927755, -0.23122058,\n",
       "        -0.76393226],\n",
       "       [ 0.39477102,  0.28438638, -0.28422048, -0.40102138, -0.68578022,\n",
       "         0.22668545],\n",
       "       [-0.59215653,  0.3512094 ,  0.60598498, -0.09428501, -0.318475  ,\n",
       "         0.22015636],\n",
       "       [ 0.65795169,  0.43409068,  0.54494451,  0.19458064,  0.20491142,\n",
       "        -0.04301182],\n",
       "       [ 0.19738551, -0.63559578,  0.29706617,  0.44334394, -0.43920635,\n",
       "         0.2816959 ]])"
      ]
     },
     "execution_count": 67,
     "metadata": {},
     "output_type": "execute_result"
    }
   ],
   "source": [
    "K = matrix(6)\n",
    "\n",
    "U,_ = np.linalg.qr(K)\n",
    "U"
   ]
  },
  {
   "cell_type": "code",
   "execution_count": 71,
   "id": "3534920b",
   "metadata": {},
   "outputs": [
    {
     "data": {
      "text/plain": [
       "array([[-0.132,  0.344, -0.246,  0.654, -0.374, -0.485],\n",
       "       [ 0.066, -0.292,  0.326, -0.409, -0.231, -0.764],\n",
       "       [ 0.395,  0.284, -0.284, -0.401, -0.686,  0.227],\n",
       "       [-0.592,  0.351,  0.606, -0.094, -0.318,  0.22 ],\n",
       "       [ 0.658,  0.434,  0.545,  0.195,  0.205, -0.043],\n",
       "       [ 0.197, -0.636,  0.297,  0.443, -0.439,  0.282]])"
      ]
     },
     "execution_count": 71,
     "metadata": {},
     "output_type": "execute_result"
    }
   ],
   "source": [
    "q,_ = np.linalg.qr(U)\n",
    "np.round(q,3)"
   ]
  },
  {
   "cell_type": "code",
   "execution_count": 70,
   "id": "ce022200",
   "metadata": {},
   "outputs": [],
   "source": [
    "# q == U because U is already orthonormal matrix"
   ]
  },
  {
   "cell_type": "code",
   "execution_count": 73,
   "id": "240e8f3a",
   "metadata": {},
   "outputs": [],
   "source": [
    "T = np.column_stack([enorm(U[:,i], 10+i) for i in range(0, 6)])"
   ]
  },
  {
   "cell_type": "code",
   "execution_count": 74,
   "id": "ee0f3fb4",
   "metadata": {},
   "outputs": [],
   "source": [
    "Q,R = np.linalg.qr(T)"
   ]
  },
  {
   "cell_type": "code",
   "execution_count": 76,
   "id": "fcb0593b",
   "metadata": {},
   "outputs": [
    {
     "data": {
      "text/plain": [
       "array([[10.,  0.,  0.,  0., -0., -0.],\n",
       "       [ 0., 11., -0., -0.,  0.,  0.],\n",
       "       [ 0.,  0., 12.,  0., -0., -0.],\n",
       "       [ 0.,  0.,  0., 13.,  0.,  0.],\n",
       "       [ 0.,  0.,  0.,  0., 14.,  0.],\n",
       "       [ 0.,  0.,  0.,  0.,  0., 15.]])"
      ]
     },
     "execution_count": 76,
     "metadata": {},
     "output_type": "execute_result"
    }
   ],
   "source": [
    "np.round(R,3)"
   ]
  },
  {
   "cell_type": "code",
   "execution_count": 77,
   "id": "f4678e42",
   "metadata": {},
   "outputs": [
    {
     "data": {
      "text/plain": [
       "array([[ 1.,  0., -0.,  0., -0., -0.],\n",
       "       [ 0.,  1., -0.,  0.,  0., -0.],\n",
       "       [-0., -0.,  1., -0., -0., -0.],\n",
       "       [ 0.,  0., -0.,  1., -0.,  0.],\n",
       "       [-0.,  0., -0., -0.,  1., -0.],\n",
       "       [-0., -0., -0.,  0., -0.,  1.]])"
      ]
     },
     "execution_count": 77,
     "metadata": {},
     "output_type": "execute_result"
    }
   ],
   "source": [
    "np.round(Q.T @ Q)"
   ]
  },
  {
   "cell_type": "code",
   "execution_count": 86,
   "id": "be52320e",
   "metadata": {},
   "outputs": [],
   "source": [
    "T1 = T.copy()"
   ]
  },
  {
   "cell_type": "code",
   "execution_count": 87,
   "id": "f4482223",
   "metadata": {},
   "outputs": [
    {
     "data": {
      "text/plain": [
       "array([[-0.132,  0.344, -0.246,  0.   , -0.374, -0.485],\n",
       "       [ 0.066, -0.292,  0.326, -0.409, -0.231, -0.764],\n",
       "       [ 0.395,  0.284, -0.284, -0.401, -0.686,  0.227],\n",
       "       [-0.592,  0.351,  0.606, -0.094, -0.318,  0.22 ],\n",
       "       [ 0.658,  0.434,  0.545,  0.195,  0.205, -0.043],\n",
       "       [ 0.197, -0.636,  0.297,  0.443, -0.439,  0.282]])"
      ]
     },
     "execution_count": 87,
     "metadata": {},
     "output_type": "execute_result"
    }
   ],
   "source": [
    "np.round(U1, 3)"
   ]
  },
  {
   "cell_type": "code",
   "execution_count": 89,
   "id": "07c5e6e6",
   "metadata": {},
   "outputs": [
    {
     "data": {
      "text/plain": [
       "array([[ -1.316,   3.784,  -2.957,   0.   ,  -5.237,  -7.277],\n",
       "       [  0.658,  -3.208,   3.908,  -5.321,  -3.237, -11.459],\n",
       "       [  3.948,   3.128,  -3.411,  -5.213,  -9.601,   3.4  ],\n",
       "       [ -5.922,   3.863,   7.272,  -1.226,  -4.459,   3.302],\n",
       "       [  6.58 ,   4.775,   6.539,   2.53 ,   2.869,  -0.645],\n",
       "       [  1.974,  -6.992,   3.565,   5.763,  -6.149,   4.225]])"
      ]
     },
     "execution_count": 89,
     "metadata": {},
     "output_type": "execute_result"
    }
   ],
   "source": [
    "T1[0,3] = 0\n",
    "np.round(T1, 3)"
   ]
  },
  {
   "cell_type": "code",
   "execution_count": 90,
   "id": "223f4a8f",
   "metadata": {},
   "outputs": [],
   "source": [
    "U2, R2 = np.linalg.qr(T1)"
   ]
  },
  {
   "cell_type": "code",
   "execution_count": 91,
   "id": "a3a1de2c",
   "metadata": {},
   "outputs": [
    {
     "data": {
      "text/plain": [
       "array([[-0.132,  0.344, -0.246,  0.184, -0.468, -0.742],\n",
       "       [ 0.066, -0.292,  0.326, -0.764,  0.039, -0.469],\n",
       "       [ 0.395,  0.284, -0.284, -0.466, -0.558,  0.393],\n",
       "       [-0.592,  0.351,  0.606, -0.089, -0.307,  0.238],\n",
       "       [ 0.658,  0.434,  0.545,  0.212,  0.14 , -0.132],\n",
       "       [ 0.197, -0.636,  0.297,  0.337, -0.595,  0.031]])"
      ]
     },
     "execution_count": 91,
     "metadata": {},
     "output_type": "execute_result"
    }
   ],
   "source": [
    "np.round(U2, 3)"
   ]
  },
  {
   "cell_type": "code",
   "execution_count": 92,
   "id": "3bd4cac5",
   "metadata": {},
   "outputs": [
    {
     "data": {
      "text/plain": [
       "array([[10.   ,  0.   ,  0.   ,  1.12 , -0.   , -0.   ],\n",
       "       [ 0.   , 11.   , -0.   , -2.927,  0.   ,  0.   ],\n",
       "       [ 0.   ,  0.   , 12.   ,  2.097, -0.   , -0.   ],\n",
       "       [ 0.   ,  0.   ,  0.   ,  9.077,  4.909,  6.821],\n",
       "       [ 0.   ,  0.   ,  0.   ,  0.   , 13.111, -2.554],\n",
       "       [ 0.   ,  0.   ,  0.   ,  0.   ,  0.   , 13.113]])"
      ]
     },
     "execution_count": 92,
     "metadata": {},
     "output_type": "execute_result"
    }
   ],
   "source": [
    "np.round(R2, 3)"
   ]
  },
  {
   "cell_type": "markdown",
   "id": "a5581c2a",
   "metadata": {},
   "source": [
    "## Exercise 9.4\n",
    "\n",
    "Compare \"classic\" inverted and \"QR\" inverted"
   ]
  },
  {
   "cell_type": "markdown",
   "id": "1c779ae8",
   "metadata": {},
   "source": [
    "Some prelimenary consideration:\n",
    "\n",
    "if \n",
    "\n",
    "$$ A = QR $$\n",
    "\n",
    "Then\n",
    "\n",
    "$$ A^{-1} = (QR)^{-1} = R^{-1}Q^{-1} = R^{-1}Q^T $$"
   ]
  },
  {
   "cell_type": "code",
   "execution_count": 107,
   "id": "ac579f1f",
   "metadata": {},
   "outputs": [],
   "source": [
    "# Classic inverted (see Exercise 8.2)\n",
    "\n",
    "def minor(X, i, j):\n",
    "    '''Creates minor of a matrix'''\n",
    "    return X[\n",
    "        np.array(list(range(i)) + list(range(i + 1, A.shape[0])))[:, np.newaxis],\n",
    "        np.array(list(range(j)) + list(range(j + 1, A.shape[1]))),\n",
    "    ]\n",
    "\n",
    "\n",
    "def cofactor(X, i, j):\n",
    "    '''Calculates (i,j) matrix cofactor'''\n",
    "    return (-1)**(i+j) * np.linalg.det(minor (X, i, j))\n",
    "\n",
    "\n",
    "def adj(X):\n",
    "    '''Calculates adjacent matrix'''\n",
    "    adj = np.zeros(X.shape)\n",
    "    for i in range(X.shape[0]):\n",
    "        for j in range(X.shape[1]):\n",
    "            adj[j,i] = cofactor(X, i, j) # pay attention that the index order is reversed in order to \n",
    "                                         # save time for transposing the matrix\n",
    "    return adj\n",
    "   \n",
    "    \n",
    "def invert(X):\n",
    "    '''inverts matrix'''\n",
    "    if np.linalg.det(X) == 0:\n",
    "        raise Exception('Passed singular matrix')\n",
    "    return adj(X) / np.linalg.det(X)"
   ]
  },
  {
   "cell_type": "code",
   "execution_count": 136,
   "id": "ab6303ab",
   "metadata": {},
   "outputs": [],
   "source": [
    "# Let's run exeperiment with 1000 matrices\n",
    "\n",
    "classic_distance = []\n",
    "qr_distance = []\n",
    "\n",
    "for i in range(1000):\n",
    "    A = matrix(30)\n",
    "    V = invert(A)\n",
    "    Q,R = np.linalg.qr(A)\n",
    "    W = invert(R) @ Q.T\n",
    "    v = frobenius_distance(np.eye(30), A@V)\n",
    "    w = frobenius_distance(np.eye(30), A@W)\n",
    "    classic_distance.append(v)\n",
    "    qr_distance.append(w)"
   ]
  },
  {
   "cell_type": "code",
   "execution_count": 137,
   "id": "f0742d73",
   "metadata": {},
   "outputs": [
    {
     "data": {
      "text/html": [
       "<div>\n",
       "<style scoped>\n",
       "    .dataframe tbody tr th:only-of-type {\n",
       "        vertical-align: middle;\n",
       "    }\n",
       "\n",
       "    .dataframe tbody tr th {\n",
       "        vertical-align: top;\n",
       "    }\n",
       "\n",
       "    .dataframe thead th {\n",
       "        text-align: right;\n",
       "    }\n",
       "</style>\n",
       "<table border=\"1\" class=\"dataframe\">\n",
       "  <thead>\n",
       "    <tr style=\"text-align: right;\">\n",
       "      <th></th>\n",
       "      <th>variable</th>\n",
       "      <th>value</th>\n",
       "    </tr>\n",
       "  </thead>\n",
       "  <tbody>\n",
       "    <tr>\n",
       "      <th>0</th>\n",
       "      <td>classic_inverted</td>\n",
       "      <td>1.269506e-12</td>\n",
       "    </tr>\n",
       "    <tr>\n",
       "      <th>1</th>\n",
       "      <td>classic_inverted</td>\n",
       "      <td>1.164728e-12</td>\n",
       "    </tr>\n",
       "    <tr>\n",
       "      <th>2</th>\n",
       "      <td>classic_inverted</td>\n",
       "      <td>3.840193e-13</td>\n",
       "    </tr>\n",
       "    <tr>\n",
       "      <th>3</th>\n",
       "      <td>classic_inverted</td>\n",
       "      <td>5.766968e-13</td>\n",
       "    </tr>\n",
       "    <tr>\n",
       "      <th>4</th>\n",
       "      <td>classic_inverted</td>\n",
       "      <td>4.506850e-13</td>\n",
       "    </tr>\n",
       "    <tr>\n",
       "      <th>...</th>\n",
       "      <td>...</td>\n",
       "      <td>...</td>\n",
       "    </tr>\n",
       "    <tr>\n",
       "      <th>1995</th>\n",
       "      <td>qr_inverted</td>\n",
       "      <td>2.770510e-13</td>\n",
       "    </tr>\n",
       "    <tr>\n",
       "      <th>1996</th>\n",
       "      <td>qr_inverted</td>\n",
       "      <td>3.642783e-13</td>\n",
       "    </tr>\n",
       "    <tr>\n",
       "      <th>1997</th>\n",
       "      <td>qr_inverted</td>\n",
       "      <td>7.665524e-13</td>\n",
       "    </tr>\n",
       "    <tr>\n",
       "      <th>1998</th>\n",
       "      <td>qr_inverted</td>\n",
       "      <td>2.258568e-13</td>\n",
       "    </tr>\n",
       "    <tr>\n",
       "      <th>1999</th>\n",
       "      <td>qr_inverted</td>\n",
       "      <td>4.003051e-13</td>\n",
       "    </tr>\n",
       "  </tbody>\n",
       "</table>\n",
       "<p>2000 rows × 2 columns</p>\n",
       "</div>"
      ],
      "text/plain": [
       "              variable         value\n",
       "0     classic_inverted  1.269506e-12\n",
       "1     classic_inverted  1.164728e-12\n",
       "2     classic_inverted  3.840193e-13\n",
       "3     classic_inverted  5.766968e-13\n",
       "4     classic_inverted  4.506850e-13\n",
       "...                ...           ...\n",
       "1995       qr_inverted  2.770510e-13\n",
       "1996       qr_inverted  3.642783e-13\n",
       "1997       qr_inverted  7.665524e-13\n",
       "1998       qr_inverted  2.258568e-13\n",
       "1999       qr_inverted  4.003051e-13\n",
       "\n",
       "[2000 rows x 2 columns]"
      ]
     },
     "execution_count": 137,
     "metadata": {},
     "output_type": "execute_result"
    }
   ],
   "source": [
    "data = pd.DataFrame({'classic_inverted': classic_distance, 'qr_inverted': qr_distance})\n",
    "data=pd.melt(data)\n",
    "data"
   ]
  },
  {
   "cell_type": "code",
   "execution_count": 138,
   "id": "569017ef",
   "metadata": {},
   "outputs": [
    {
     "data": {
      "text/plain": [
       "<AxesSubplot:xlabel='variable', ylabel='value'>"
      ]
     },
     "execution_count": 138,
     "metadata": {},
     "output_type": "execute_result"
    },
    {
     "data": {
      "image/png": "[encoded data removed]",
      "text/plain": [
       "<Figure size 640x480 with 1 Axes>"
      ]
     },
     "metadata": {},
     "output_type": "display_data"
    }
   ],
   "source": [
    "sns.barplot(data=data, x='variable', y='value')"
   ]
  },
  {
   "cell_type": "code",
   "execution_count": 134,
   "id": "0870504c",
   "metadata": {},
   "outputs": [],
   "source": [
    "# Not that big a difference"
   ]
  },
  {
   "cell_type": "markdown",
   "id": "5801c3e2",
   "metadata": {},
   "source": [
    "## Exercise 9.6"
   ]
  },
  {
   "cell_type": "code",
   "execution_count": 160,
   "id": "e55d4de7",
   "metadata": {},
   "outputs": [],
   "source": [
    "# I don't get that"
   ]
  }
 ],
 "metadata": {
  "kernelspec": {
   "display_name": "Python 3 (ipykernel)",
   "language": "python",
   "name": "python3"
  },
  "language_info": {
   "codemirror_mode": {
    "name": "ipython",
    "version": 3
   },
   "file_extension": ".py",
   "mimetype": "text/x-python",
   "name": "python",
   "nbconvert_exporter": "python",
   "pygments_lexer": "ipython3",
   "version": "3.9.13"
  }
 },
 "nbformat": 4,
 "nbformat_minor": 5
}
