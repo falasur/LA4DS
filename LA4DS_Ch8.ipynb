{
 "cells": [
  {
   "cell_type": "markdown",
   "id": "07d30057",
   "metadata": {},
   "source": [
    "# Exercises from Linear Algebra for DS\n",
    "\n",
    "## Chapter 8"
   ]
  },
  {
   "cell_type": "code",
   "execution_count": 30,
   "id": "3416ce2e",
   "metadata": {},
   "outputs": [],
   "source": [
    "import numpy as np\n",
    "import math\n",
    "import matplotlib.pyplot as plt\n",
    "import seaborn as sns\n",
    "import plotly.graph_objects as go\n",
    "import plotly.io as pio\n",
    "import scipy\n",
    "import pandas as pd\n",
    "from latools import vec, row, frobenius_distance\n",
    "from skimage import io,color\n",
    "from scipy.signal import convolve2d\n",
    "\n",
    "import matplotlib.animation as animation\n",
    "from matplotlib import rc\n",
    "rc('animation', html='jshtml')\n",
    "\n",
    "pio.renderers.default='iframe'\n",
    "#plt.figure(figsize=(12, 12), dpi=80)\n",
    "plt.rcParams[\"figure.figsize\"] = (10,10)"
   ]
  },
  {
   "cell_type": "markdown",
   "id": "a8dfa205",
   "metadata": {},
   "source": [
    "### Exercise 8.1\n",
    "\n",
    "Illustrate that\n",
    "$$ (A^{-1})^{-1} = A $$"
   ]
  },
  {
   "cell_type": "code",
   "execution_count": 2,
   "id": "3765a399",
   "metadata": {},
   "outputs": [
    {
     "data": {
      "text/plain": [
       "array([[7, 3, 3, 0],\n",
       "       [2, 1, 9, 7],\n",
       "       [4, 8, 9, 3],\n",
       "       [1, 5, 5, 4]])"
      ]
     },
     "execution_count": 2,
     "metadata": {},
     "output_type": "execute_result"
    }
   ],
   "source": [
    "A = np.random.randint(low=0, high=10, size=(4, 4))\n",
    "A"
   ]
  },
  {
   "cell_type": "code",
   "execution_count": 3,
   "id": "5995c6ac",
   "metadata": {},
   "outputs": [
    {
     "data": {
      "text/plain": [
       "array([[7.00000000e+00, 3.00000000e+00, 3.00000000e+00, 2.67999196e-16],\n",
       "       [2.00000000e+00, 1.00000000e+00, 9.00000000e+00, 7.00000000e+00],\n",
       "       [4.00000000e+00, 8.00000000e+00, 9.00000000e+00, 3.00000000e+00],\n",
       "       [1.00000000e+00, 5.00000000e+00, 5.00000000e+00, 4.00000000e+00]])"
      ]
     },
     "execution_count": 3,
     "metadata": {},
     "output_type": "execute_result"
    }
   ],
   "source": [
    "np.linalg.inv(np.linalg.inv(A))"
   ]
  },
  {
   "cell_type": "code",
   "execution_count": 4,
   "id": "43661407",
   "metadata": {},
   "outputs": [
    {
     "data": {
      "text/plain": [
       "array([[ True,  True,  True,  True],\n",
       "       [ True,  True,  True,  True],\n",
       "       [ True,  True,  True,  True],\n",
       "       [ True,  True,  True,  True]])"
      ]
     },
     "execution_count": 4,
     "metadata": {},
     "output_type": "execute_result"
    }
   ],
   "source": [
    "np.round(np.linalg.inv(np.linalg.inv(A))) == A"
   ]
  },
  {
   "cell_type": "markdown",
   "id": "cca4a28d",
   "metadata": {},
   "source": [
    "### Exercise 8.2\n",
    "\n",
    "Create the inversion of full-ranked matrix"
   ]
  },
  {
   "cell_type": "code",
   "execution_count": 5,
   "id": "cd411716",
   "metadata": {},
   "outputs": [],
   "source": [
    "def minor(X, i, j):\n",
    "    '''Creates minor of a matrix'''\n",
    "    return X[\n",
    "        np.array(list(range(i)) + list(range(i + 1, A.shape[0])))[:, np.newaxis],\n",
    "        np.array(list(range(j)) + list(range(j + 1, A.shape[1]))),\n",
    "    ]\n",
    "\n",
    "# Got that from https://stackoverflow.com/questions/3858213/numpy-routine-for-computing-matrix-minors\n",
    "# I find the solution neat"
   ]
  },
  {
   "cell_type": "code",
   "execution_count": 6,
   "id": "15419eac",
   "metadata": {},
   "outputs": [],
   "source": [
    "def cofactor(X, i, j):\n",
    "    '''Calculates (i,j) matrix cofactor'''\n",
    "    return (-1)**(i+j) * np.linalg.det(minor (X, i, j))"
   ]
  },
  {
   "cell_type": "code",
   "execution_count": 7,
   "id": "634f6462",
   "metadata": {},
   "outputs": [],
   "source": [
    "def adj(X):\n",
    "    '''Calculates adjacent matrix'''\n",
    "    adj = np.zeros(X.shape)\n",
    "    for i in range(X.shape[0]):\n",
    "        for j in range(X.shape[1]):\n",
    "            adj[j,i] = cofactor(X, i, j) # pay attention that the index order is reversed in order to \n",
    "                                         # save time for transposing the matrix\n",
    "    return adj\n",
    "            "
   ]
  },
  {
   "cell_type": "code",
   "execution_count": 8,
   "id": "b2787950",
   "metadata": {},
   "outputs": [],
   "source": [
    "def invert(X):\n",
    "    '''inverts matrix'''\n",
    "    if np.linalg.det(X) == 0:\n",
    "        raise Exception('Passed singular matrix')\n",
    "    return adj(X) / np.linalg.det(X)"
   ]
  },
  {
   "cell_type": "code",
   "execution_count": 9,
   "id": "9d94f982",
   "metadata": {},
   "outputs": [
    {
     "data": {
      "text/plain": [
       "array([[ 1., -0., -0., -0.,  0.,  0.],\n",
       "       [ 0.,  1., -0., -0.,  0.,  0.],\n",
       "       [ 0., -0.,  1., -0., -0.,  0.],\n",
       "       [ 0., -0., -0.,  1.,  0.,  0.],\n",
       "       [ 0., -0., -0., -0.,  1., -0.],\n",
       "       [ 0., -0.,  0., -0.,  0.,  1.]])"
      ]
     },
     "execution_count": 9,
     "metadata": {},
     "output_type": "execute_result"
    }
   ],
   "source": [
    "# Let's test:\n",
    "\n",
    "A = np.random.randint(0, 10, size=(6,6))\n",
    "np.round(A @ invert(A))"
   ]
  },
  {
   "cell_type": "code",
   "execution_count": 10,
   "id": "d5850119",
   "metadata": {},
   "outputs": [
    {
     "data": {
      "text/plain": [
       "<matplotlib.image.AxesImage at 0x243f9f37f10>"
      ]
     },
     "execution_count": 10,
     "metadata": {},
     "output_type": "execute_result"
    },
    {
     "data": {
      "image/png": "[encoded data removed]",
      "text/plain": [
       "<Figure size 700x700 with 4 Axes>"
      ]
     },
     "metadata": {},
     "output_type": "display_data"
    }
   ],
   "source": [
    "fig, ((ax1, ax2), (ax3, ax4)) = plt.subplots(2,2)\n",
    "\n",
    "ax1.imshow(A)\n",
    "ax2.imshow(adj(A))\n",
    "ax3.imshow(invert(A))\n",
    "ax4.imshow(A @ invert(A))"
   ]
  },
  {
   "cell_type": "code",
   "execution_count": 11,
   "id": "b96ebe3c",
   "metadata": {},
   "outputs": [
    {
     "data": {
      "text/plain": [
       "<matplotlib.image.AxesImage at 0x243f9ff9e80>"
      ]
     },
     "execution_count": 11,
     "metadata": {},
     "output_type": "execute_result"
    },
    {
     "data": {
      "image/png": "[encoded data removed]",
      "text/plain": [
       "<Figure size 700x700 with 3 Axes>"
      ]
     },
     "metadata": {},
     "output_type": "display_data"
    }
   ],
   "source": [
    "fig, (ax1, ax2, ax3) = plt.subplots(1,3)\n",
    "\n",
    "ax1.imshow(invert(A))\n",
    "ax2.imshow(np.linalg.inv(A))\n",
    "ax3.imshow(invert(A) - np.linalg.inv(A))"
   ]
  },
  {
   "cell_type": "code",
   "execution_count": 12,
   "id": "07ba3eee",
   "metadata": {},
   "outputs": [
    {
     "data": {
      "text/plain": [
       "(array([[1, 5, 6, 0, 1, 9],\n",
       "        [3, 3, 6, 4, 6, 7],\n",
       "        [4, 9, 8, 2, 7, 2],\n",
       "        [2, 5, 8, 7, 5, 7],\n",
       "        [9, 4, 2, 5, 9, 5],\n",
       "        [8, 1, 4, 4, 4, 2]]),\n",
       " array([[ 0.06544359, -0.10523914, -0.00940124, -0.03650968,  0.02975539,\n",
       "          0.13663746],\n",
       "        [ 0.07867835, -0.29481563,  0.05750274,  0.11975173,  0.11573567,\n",
       "         -0.08817087],\n",
       "        [-0.02907083,  0.1727364 ,  0.05763965, -0.05932822, -0.18081417,\n",
       "          0.12828587],\n",
       "        [-0.05038335, -0.1909456 , -0.06389193,  0.23731289,  0.05659   ,\n",
       "         -0.01314348],\n",
       "        [-0.11737861,  0.28824388,  0.04801022, -0.13070464,  0.00985761,\n",
       "         -0.0958379 ],\n",
       "        [ 0.09255203,  0.028295  , -0.07466229, -0.00839723,  0.05184374,\n",
       "         -0.04107338]]),\n",
       " array([[ 0.06544359, -0.10523914, -0.00940124, -0.03650968,  0.02975539,\n",
       "          0.13663746],\n",
       "        [ 0.07867835, -0.29481563,  0.05750274,  0.11975173,  0.11573567,\n",
       "         -0.08817087],\n",
       "        [-0.02907083,  0.1727364 ,  0.05763965, -0.05932822, -0.18081417,\n",
       "          0.12828587],\n",
       "        [-0.05038335, -0.1909456 , -0.06389193,  0.23731289,  0.05659   ,\n",
       "         -0.01314348],\n",
       "        [-0.11737861,  0.28824388,  0.04801022, -0.13070464,  0.00985761,\n",
       "         -0.0958379 ],\n",
       "        [ 0.09255203,  0.028295  , -0.07466229, -0.00839723,  0.05184374,\n",
       "         -0.04107338]]))"
      ]
     },
     "execution_count": 12,
     "metadata": {},
     "output_type": "execute_result"
    }
   ],
   "source": [
    "A, invert(A), np.linalg.inv(A)"
   ]
  },
  {
   "cell_type": "code",
   "execution_count": 13,
   "id": "d3369b70",
   "metadata": {},
   "outputs": [
    {
     "ename": "Exception",
     "evalue": "Passed singular matrix",
     "output_type": "error",
     "traceback": [
      "\u001b[1;31m---------------------------------------------------------------------------\u001b[0m",
      "\u001b[1;31mException\u001b[0m                                 Traceback (most recent call last)",
      "\u001b[1;32m~\\AppData\\Local\\Temp\\ipykernel_2972\\865907138.py\u001b[0m in \u001b[0;36m<module>\u001b[1;34m\u001b[0m\n\u001b[0;32m      2\u001b[0m \u001b[0mB\u001b[0m \u001b[1;33m=\u001b[0m \u001b[0mnp\u001b[0m\u001b[1;33m.\u001b[0m\u001b[0mrandom\u001b[0m\u001b[1;33m.\u001b[0m\u001b[0mrandint\u001b[0m\u001b[1;33m(\u001b[0m\u001b[1;36m0\u001b[0m\u001b[1;33m,\u001b[0m \u001b[1;36m10\u001b[0m\u001b[1;33m,\u001b[0m \u001b[0msize\u001b[0m\u001b[1;33m=\u001b[0m\u001b[1;33m(\u001b[0m\u001b[1;36m6\u001b[0m\u001b[1;33m,\u001b[0m\u001b[1;36m5\u001b[0m\u001b[1;33m)\u001b[0m\u001b[1;33m)\u001b[0m\u001b[1;33m\u001b[0m\u001b[1;33m\u001b[0m\u001b[0m\n\u001b[0;32m      3\u001b[0m \u001b[0mB\u001b[0m \u001b[1;33m=\u001b[0m \u001b[0mnp\u001b[0m\u001b[1;33m.\u001b[0m\u001b[0mconcatenate\u001b[0m\u001b[1;33m(\u001b[0m\u001b[1;33m(\u001b[0m\u001b[0mB\u001b[0m\u001b[1;33m,\u001b[0m \u001b[0mB\u001b[0m\u001b[1;33m[\u001b[0m\u001b[1;33m:\u001b[0m\u001b[1;33m,\u001b[0m \u001b[1;33m[\u001b[0m\u001b[1;36m2\u001b[0m\u001b[1;33m]\u001b[0m\u001b[1;33m]\u001b[0m\u001b[1;33m*\u001b[0m\u001b[1;36m2\u001b[0m\u001b[1;33m)\u001b[0m\u001b[1;33m,\u001b[0m \u001b[0maxis\u001b[0m\u001b[1;33m=\u001b[0m\u001b[1;36m1\u001b[0m\u001b[1;33m)\u001b[0m\u001b[1;33m\u001b[0m\u001b[1;33m\u001b[0m\u001b[0m\n\u001b[1;32m----> 4\u001b[1;33m \u001b[0mnp\u001b[0m\u001b[1;33m.\u001b[0m\u001b[0mround\u001b[0m\u001b[1;33m(\u001b[0m\u001b[0mB\u001b[0m \u001b[1;33m@\u001b[0m \u001b[0minvert\u001b[0m\u001b[1;33m(\u001b[0m\u001b[0mB\u001b[0m\u001b[1;33m)\u001b[0m\u001b[1;33m)\u001b[0m \u001b[1;31m#> Exception: Passed singular matrix\u001b[0m\u001b[1;33m\u001b[0m\u001b[1;33m\u001b[0m\u001b[0m\n\u001b[0m",
      "\u001b[1;32m~\\AppData\\Local\\Temp\\ipykernel_2972\\3575555053.py\u001b[0m in \u001b[0;36minvert\u001b[1;34m(X)\u001b[0m\n\u001b[0;32m      2\u001b[0m     \u001b[1;34m'''inverts matrix'''\u001b[0m\u001b[1;33m\u001b[0m\u001b[1;33m\u001b[0m\u001b[0m\n\u001b[0;32m      3\u001b[0m     \u001b[1;32mif\u001b[0m \u001b[0mnp\u001b[0m\u001b[1;33m.\u001b[0m\u001b[0mlinalg\u001b[0m\u001b[1;33m.\u001b[0m\u001b[0mdet\u001b[0m\u001b[1;33m(\u001b[0m\u001b[0mX\u001b[0m\u001b[1;33m)\u001b[0m \u001b[1;33m==\u001b[0m \u001b[1;36m0\u001b[0m\u001b[1;33m:\u001b[0m\u001b[1;33m\u001b[0m\u001b[1;33m\u001b[0m\u001b[0m\n\u001b[1;32m----> 4\u001b[1;33m         \u001b[1;32mraise\u001b[0m \u001b[0mException\u001b[0m\u001b[1;33m(\u001b[0m\u001b[1;34m'Passed singular matrix'\u001b[0m\u001b[1;33m)\u001b[0m\u001b[1;33m\u001b[0m\u001b[1;33m\u001b[0m\u001b[0m\n\u001b[0m\u001b[0;32m      5\u001b[0m     \u001b[1;32mreturn\u001b[0m \u001b[0madj\u001b[0m\u001b[1;33m(\u001b[0m\u001b[0mX\u001b[0m\u001b[1;33m)\u001b[0m \u001b[1;33m/\u001b[0m \u001b[0mnp\u001b[0m\u001b[1;33m.\u001b[0m\u001b[0mlinalg\u001b[0m\u001b[1;33m.\u001b[0m\u001b[0mdet\u001b[0m\u001b[1;33m(\u001b[0m\u001b[0mX\u001b[0m\u001b[1;33m)\u001b[0m\u001b[1;33m\u001b[0m\u001b[1;33m\u001b[0m\u001b[0m\n",
      "\u001b[1;31mException\u001b[0m: Passed singular matrix"
     ]
    }
   ],
   "source": [
    "# Let's test-2: singular matrix\n",
    "B = np.random.randint(0, 10, size=(6,5))\n",
    "B = np.concatenate((B, B[:, [2]]*2), axis=1)\n",
    "np.round(B @ invert(B)) #> Exception: Passed singular matrix"
   ]
  },
  {
   "cell_type": "markdown",
   "id": "6ab145a6",
   "metadata": {},
   "source": [
    "### Exercise 8.3"
   ]
  },
  {
   "cell_type": "code",
   "execution_count": 14,
   "id": "423e36b3",
   "metadata": {},
   "outputs": [],
   "source": [
    "# Let us skip it since we already did the general case"
   ]
  },
  {
   "cell_type": "markdown",
   "id": "d40a121b",
   "metadata": {},
   "source": [
    "### Exercise 8.4\n",
    "\n",
    "Create right-inversed matrix"
   ]
  },
  {
   "cell_type": "markdown",
   "id": "84ce1afb",
   "metadata": {},
   "source": [
    "Well, the logic is the same as with the left inverted:\n",
    "\n",
    "We have the idea that \n",
    "\n",
    "$$ (AA^T)(AA^T)^{-1} = I <=> A(A^T(AA^T)^{-1}) = I $$\n",
    "\n",
    "And if (AA^T) is full-ranked (which **is** the case if A (long matrix) has the full row rank)\n",
    "Than we just have to find the \n",
    "$$ A^T(AA^T)^{-1} $$"
   ]
  },
  {
   "cell_type": "code",
   "execution_count": 15,
   "id": "7f66e17e",
   "metadata": {},
   "outputs": [],
   "source": [
    "# Let's proceed\n",
    "\n",
    "def right_invert(X):\n",
    "    if np.linalg.matrix_rank(X) < X.shape[0]:\n",
    "        raise Exception('Passed singular matrix')\n",
    "    return X.T @ np.linalg.inv(X @ X.T)"
   ]
  },
  {
   "cell_type": "code",
   "execution_count": 16,
   "id": "1ae541d4",
   "metadata": {},
   "outputs": [],
   "source": [
    "# test:\n",
    "\n",
    "A = np.random.randint(0, 10, size=(5,10))"
   ]
  },
  {
   "cell_type": "code",
   "execution_count": 17,
   "id": "8f09be27",
   "metadata": {},
   "outputs": [
    {
     "data": {
      "text/plain": [
       "array([[ 1., -0.,  0., -0.,  0.],\n",
       "       [ 0.,  1.,  0.,  0., -0.],\n",
       "       [ 0., -0.,  1., -0., -0.],\n",
       "       [ 0., -0.,  0.,  1., -0.],\n",
       "       [ 0., -0.,  0., -0.,  1.]])"
      ]
     },
     "execution_count": 17,
     "metadata": {},
     "output_type": "execute_result"
    }
   ],
   "source": [
    "np.round(A @ right_invert(A))"
   ]
  },
  {
   "cell_type": "code",
   "execution_count": 18,
   "id": "d53dd01b",
   "metadata": {},
   "outputs": [
    {
     "data": {
      "text/plain": [
       "array([[ 0.04351747, -0.08154113,  0.01687524,  0.05309788, -0.0759919 ],\n",
       "       [ 0.03391247,  0.02742042, -0.00313641, -0.01028063, -0.01936252],\n",
       "       [-0.05451902,  0.06883285, -0.08927192,  0.04394251,  0.07055646],\n",
       "       [ 0.02342356, -0.09340029,  0.06121043,  0.03657949, -0.04453467],\n",
       "       [ 0.01722163, -0.00227371, -0.00577601,  0.00913582, -0.00922384],\n",
       "       [-0.08637195,  0.04625491, -0.00222719,  0.03613829,  0.04389964],\n",
       "       [-0.13185819,  0.13168753, -0.03492491, -0.0114786 ,  0.14310874],\n",
       "       [ 0.06201041, -0.0108433 , -0.06912109, -0.00972244,  0.05147028],\n",
       "       [ 0.06812905, -0.00710533,  0.09200217, -0.05178292, -0.08957398],\n",
       "       [ 0.00701355, -0.0153025 ,  0.03983365, -0.02287881,  0.02160347]])"
      ]
     },
     "execution_count": 18,
     "metadata": {},
     "output_type": "execute_result"
    }
   ],
   "source": [
    "right_invert(A)"
   ]
  },
  {
   "cell_type": "code",
   "execution_count": 19,
   "id": "6db1b40c",
   "metadata": {},
   "outputs": [
    {
     "data": {
      "text/plain": [
       "<matplotlib.image.AxesImage at 0x243fa424f10>"
      ]
     },
     "execution_count": 19,
     "metadata": {},
     "output_type": "execute_result"
    },
    {
     "data": {
      "image/png": "[encoded data removed]",
      "text/plain": [
       "<Figure size 700x700 with 3 Axes>"
      ]
     },
     "metadata": {},
     "output_type": "display_data"
    }
   ],
   "source": [
    "fig, (ax1, ax2, ax3) = plt.subplots(1,3)\n",
    "\n",
    "ax1.imshow(A)\n",
    "ax2.imshow(right_invert(A))\n",
    "ax3.imshow(A @ right_invert(A))"
   ]
  },
  {
   "cell_type": "markdown",
   "id": "d63b831d",
   "metadata": {},
   "source": [
    "### Exercise 8.5\n",
    "\n",
    "Illustrate that:\n",
    "\n",
    "i) Pseudoinversed matrix equals inversed martix for full-ranked matrices\n",
    "\n",
    "ii) pseudoinversed matrix equals left-inversd and right-inversed matrices where they exist"
   ]
  },
  {
   "cell_type": "code",
   "execution_count": 20,
   "id": "18f14aed",
   "metadata": {},
   "outputs": [
    {
     "data": {
      "text/plain": [
       "1.664262864846119e-15"
      ]
     },
     "execution_count": 20,
     "metadata": {},
     "output_type": "execute_result"
    }
   ],
   "source": [
    "A = np.random.randint(0,10, size=(5,5))\n",
    "frobenius_distance(np.linalg.inv(A), np.linalg.pinv(A))"
   ]
  },
  {
   "cell_type": "code",
   "execution_count": 21,
   "id": "c0d81451",
   "metadata": {},
   "outputs": [],
   "source": [
    "A = np.random.randint(0, 10, size=(5,10))"
   ]
  },
  {
   "cell_type": "code",
   "execution_count": 22,
   "id": "3e309157",
   "metadata": {},
   "outputs": [
    {
     "data": {
      "text/plain": [
       "3.4936214151606743e-16"
      ]
     },
     "execution_count": 22,
     "metadata": {},
     "output_type": "execute_result"
    }
   ],
   "source": [
    "frobenius_distance(right_invert(A), np.linalg.pinv(A))"
   ]
  },
  {
   "cell_type": "code",
   "execution_count": 23,
   "id": "42b165b5",
   "metadata": {},
   "outputs": [],
   "source": [
    "def left_invert(X):\n",
    "    if np.linalg.matrix_rank(X) < X.shape[1]:\n",
    "        raise Exception('Passed singular matrix')\n",
    "    return np.linalg.inv(X.T @ X) @ X.T"
   ]
  },
  {
   "cell_type": "code",
   "execution_count": 24,
   "id": "fca0ed72",
   "metadata": {},
   "outputs": [
    {
     "data": {
      "text/plain": [
       "2.1998502156166996e-16"
      ]
     },
     "execution_count": 24,
     "metadata": {},
     "output_type": "execute_result"
    }
   ],
   "source": [
    "A = np.random.randint(0, 10, size=(10,5))\n",
    "frobenius_distance(left_invert(A), np.linalg.pinv(A))"
   ]
  },
  {
   "cell_type": "markdown",
   "id": "13dc7682",
   "metadata": {},
   "source": [
    "### Exercise 8.6\n",
    "\n",
    "Illusrate relationship between\n",
    "\n",
    "$$ (AB)^{-1}, A^{-1}B^{-1}, B^{-1}A^{-1} $$"
   ]
  },
  {
   "cell_type": "code",
   "execution_count": 31,
   "id": "72d6ef8e",
   "metadata": {},
   "outputs": [],
   "source": [
    "A = np.random.randint(0, 10, size=(5,5))\n",
    "B = np.random.randint(0, 10, size=(5,5))"
   ]
  },
  {
   "cell_type": "code",
   "execution_count": 34,
   "id": "f19dae00",
   "metadata": {},
   "outputs": [],
   "source": [
    "X = np.linalg.inv(A @ B)\n",
    "Y = np.linalg.inv(A) @ np.linalg.inv(B)\n",
    "Z = np.linalg.inv(B) @ np.linalg.inv(A)"
   ]
  },
  {
   "cell_type": "code",
   "execution_count": 35,
   "id": "e18b55b5",
   "metadata": {},
   "outputs": [
    {
     "data": {
      "text/plain": [
       "(5, 5)"
      ]
     },
     "execution_count": 35,
     "metadata": {},
     "output_type": "execute_result"
    }
   ],
   "source": [
    "np.linalg.matrix_rank(A), np.linalg.matrix_rank(B)"
   ]
  },
  {
   "cell_type": "code",
   "execution_count": 36,
   "id": "415f09f9",
   "metadata": {},
   "outputs": [
    {
     "data": {
      "text/plain": [
       "<matplotlib.image.AxesImage at 0x243fa6e3bb0>"
      ]
     },
     "execution_count": 36,
     "metadata": {},
     "output_type": "execute_result"
    },
    {
     "data": {
      "image/png": "[encoded data removed]",
      "text/plain": [
       "<Figure size 1000x1000 with 3 Axes>"
      ]
     },
     "metadata": {},
     "output_type": "display_data"
    }
   ],
   "source": [
    "fig, (ax1, ax2, ax3) = plt.subplots(1,3)\n",
    "\n",
    "ax1.imshow(X)\n",
    "ax2.imshow(Y)\n",
    "ax3.imshow(Z)"
   ]
  },
  {
   "cell_type": "code",
   "execution_count": 39,
   "id": "34cb72c1",
   "metadata": {},
   "outputs": [
    {
     "name": "stdout",
     "output_type": "stream",
     "text": [
      "distance between (AB)^-1, A^-1*B^-1 is 0.5976743972003901\n",
      "distance between (AB)^-1, A^-1*B^-1 is 5.981144731007942e-16\n"
     ]
    }
   ],
   "source": [
    "print( f'distance between (AB)^-1, A^-1*B^-1 is {frobenius_distance(X,Y)}')\n",
    "print( f'distance between (AB)^-1, A^-1*B^-1 is {frobenius_distance(X,Z)}')"
   ]
  },
  {
   "cell_type": "markdown",
   "id": "4fbb2bc4",
   "metadata": {},
   "source": [
    "### Exercise 8.9\n",
    "\n",
    "Hilbert matrix"
   ]
  },
  {
   "cell_type": "code",
   "execution_count": 65,
   "id": "b50d4b1b",
   "metadata": {},
   "outputs": [],
   "source": [
    "def hilbert(i,j):\n",
    "    return 1 / np.array([[x + y + 1 for x in range(j)] for y in range(i)])"
   ]
  },
  {
   "cell_type": "code",
   "execution_count": 66,
   "id": "537f81a1",
   "metadata": {},
   "outputs": [],
   "source": [
    "H = hilbert(10,10)\n",
    "G = np.linalg.inv(H)"
   ]
  },
  {
   "cell_type": "code",
   "execution_count": 67,
   "id": "51cdd9ab",
   "metadata": {},
   "outputs": [
    {
     "data": {
      "text/plain": [
       "<matplotlib.image.AxesImage at 0x243fa9251c0>"
      ]
     },
     "execution_count": 67,
     "metadata": {},
     "output_type": "execute_result"
    },
    {
     "data": {
      "image/png": "[encoded data removed]",
      "text/plain": [
       "<Figure size 1000x1000 with 3 Axes>"
      ]
     },
     "metadata": {},
     "output_type": "display_data"
    }
   ],
   "source": [
    "fig, (ax1, ax2, ax3) = plt.subplots(1,3)\n",
    "\n",
    "ax1.imshow(H)\n",
    "ax2.imshow(G)\n",
    "ax3.imshow(H @ G)"
   ]
  },
  {
   "cell_type": "markdown",
   "id": "f3d0ea9d",
   "metadata": {},
   "source": [
    "### Exercise 8.10\n",
    "\n",
    "Hilbert matrix"
   ]
  },
  {
   "cell_type": "code",
   "execution_count": 81,
   "id": "cb0a0f76",
   "metadata": {},
   "outputs": [],
   "source": [
    "fd=[]\n",
    "\n",
    "for i in range(3,12):\n",
    "    H = hilbert(i, i)\n",
    "    R = np.random.randn(i,i)\n",
    "    G = np.linalg.inv(H)\n",
    "    S = np.linalg.inv(R)\n",
    "    fd.append([math.log(frobenius_distance(H@G, np.eye(i)), 10), math.log(frobenius_distance(R@S, np.eye(i)), 10)])\n",
    "fd = np.array(fd)   "
   ]
  },
  {
   "cell_type": "code",
   "execution_count": 84,
   "id": "79b21d3b",
   "metadata": {},
   "outputs": [
    {
     "data": {
      "text/plain": [
       "[<matplotlib.lines.Line2D at 0x243faad9250>]"
      ]
     },
     "execution_count": 84,
     "metadata": {},
     "output_type": "execute_result"
    },
    {
     "data": {
      "image/png": "[encoded data removed]",
      "text/plain": [
       "<Figure size 1000x1000 with 1 Axes>"
      ]
     },
     "metadata": {},
     "output_type": "display_data"
    }
   ],
   "source": [
    "plt.plot(np.arange(3,12), fd[:, 0], 's-')\n",
    "plt.plot(np.arange(3,12), fd[:, 1], 'x-')"
   ]
  },
  {
   "cell_type": "code",
   "execution_count": null,
   "id": "5bb958f7",
   "metadata": {},
   "outputs": [],
   "source": []
  }
 ],
 "metadata": {
  "kernelspec": {
   "display_name": "Python 3 (ipykernel)",
   "language": "python",
   "name": "python3"
  },
  "language_info": {
   "codemirror_mode": {
    "name": "ipython",
    "version": 3
   },
   "file_extension": ".py",
   "mimetype": "text/x-python",
   "name": "python",
   "nbconvert_exporter": "python",
   "pygments_lexer": "ipython3",
   "version": "3.9.13"
  }
 },
 "nbformat": 4,
 "nbformat_minor": 5
}
