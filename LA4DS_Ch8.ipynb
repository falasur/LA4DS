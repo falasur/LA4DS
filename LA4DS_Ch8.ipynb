{
 "cells": [
  {
   "cell_type": "markdown",
   "id": "07d30057",
   "metadata": {},
   "source": [
    "# Exercises from Linear Algebra for DS\n",
    "\n",
    "## Chapter 8"
   ]
  },
  {
   "cell_type": "code",
   "execution_count": 1,
   "id": "3416ce2e",
   "metadata": {},
   "outputs": [],
   "source": [
    "import numpy as np\n",
    "import math\n",
    "import matplotlib.pyplot as plt\n",
    "import seaborn as sns\n",
    "import plotly.graph_objects as go\n",
    "import plotly.io as pio\n",
    "import scipy\n",
    "import pandas as pd\n",
    "from latools import vec, row,frobenius_distance\n",
    "from skimage import io,color\n",
    "from scipy.signal import convolve2d\n",
    "\n",
    "import matplotlib.animation as animation\n",
    "from matplotlib import rc\n",
    "rc('animation', html='jshtml')\n",
    "\n",
    "pio.renderers.default='iframe'\n",
    "#plt.figure(figsize=(12, 12), dpi=80)\n",
    "plt.rcParams[\"figure.figsize\"] = (7,7)"
   ]
  },
  {
   "cell_type": "markdown",
   "id": "a8dfa205",
   "metadata": {},
   "source": [
    "### Exercise 8.1\n",
    "\n",
    "Illustrate that\n",
    "$$ (A^{-1})^{-1} = A $$"
   ]
  },
  {
   "cell_type": "code",
   "execution_count": 2,
   "id": "3765a399",
   "metadata": {},
   "outputs": [
    {
     "data": {
      "text/plain": [
       "array([[2, 1, 1, 5],\n",
       "       [5, 1, 0, 6],\n",
       "       [8, 7, 7, 4],\n",
       "       [3, 9, 4, 9]])"
      ]
     },
     "execution_count": 2,
     "metadata": {},
     "output_type": "execute_result"
    }
   ],
   "source": [
    "A = np.random.randint(low=0, high=10, size=(4, 4))\n",
    "A"
   ]
  },
  {
   "cell_type": "code",
   "execution_count": 3,
   "id": "5995c6ac",
   "metadata": {},
   "outputs": [
    {
     "data": {
      "text/plain": [
       "array([[ 2.00000000e+00,  1.00000000e+00,  1.00000000e+00,\n",
       "         5.00000000e+00],\n",
       "       [ 5.00000000e+00,  1.00000000e+00, -8.81239526e-16,\n",
       "         6.00000000e+00],\n",
       "       [ 8.00000000e+00,  7.00000000e+00,  7.00000000e+00,\n",
       "         4.00000000e+00],\n",
       "       [ 3.00000000e+00,  9.00000000e+00,  4.00000000e+00,\n",
       "         9.00000000e+00]])"
      ]
     },
     "execution_count": 3,
     "metadata": {},
     "output_type": "execute_result"
    }
   ],
   "source": [
    "np.linalg.inv(np.linalg.inv(A))"
   ]
  },
  {
   "cell_type": "code",
   "execution_count": 4,
   "id": "43661407",
   "metadata": {},
   "outputs": [
    {
     "data": {
      "text/plain": [
       "array([[ True,  True,  True,  True],\n",
       "       [ True,  True,  True,  True],\n",
       "       [ True,  True,  True,  True],\n",
       "       [ True,  True,  True,  True]])"
      ]
     },
     "execution_count": 4,
     "metadata": {},
     "output_type": "execute_result"
    }
   ],
   "source": [
    "np.round(np.linalg.inv(np.linalg.inv(A))) == A"
   ]
  },
  {
   "cell_type": "markdown",
   "id": "cca4a28d",
   "metadata": {},
   "source": [
    "### Exercise 8.2\n",
    "\n",
    "Create the inversion of full-ranked matrix"
   ]
  },
  {
   "cell_type": "code",
   "execution_count": 5,
   "id": "cd411716",
   "metadata": {},
   "outputs": [],
   "source": [
    "def minor(X, i, j):\n",
    "    '''Creates minor of a matrix'''\n",
    "    return X[\n",
    "        np.array(list(range(i)) + list(range(i + 1, A.shape[0])))[:, np.newaxis],\n",
    "        np.array(list(range(j)) + list(range(j + 1, A.shape[1]))),\n",
    "    ]\n",
    "\n",
    "# Got that from https://stackoverflow.com/questions/3858213/numpy-routine-for-computing-matrix-minors\n",
    "# I find the solution neat"
   ]
  },
  {
   "cell_type": "code",
   "execution_count": 6,
   "id": "15419eac",
   "metadata": {},
   "outputs": [],
   "source": [
    "def cofactor(X, i, j):\n",
    "    '''Calculates (i,j) matrix cofactor'''\n",
    "    return (-1)**(i+j) * np.linalg.det(minor (X, i, j))"
   ]
  },
  {
   "cell_type": "code",
   "execution_count": 7,
   "id": "634f6462",
   "metadata": {},
   "outputs": [],
   "source": [
    "def adj(X):\n",
    "    '''Calculates adjacent matrix'''\n",
    "    adj = np.zeros(X.shape)\n",
    "    for i in range(X.shape[0]):\n",
    "        for j in range(X.shape[1]):\n",
    "            adj[j,i] = cofactor(X, i, j) # pay attention that the index order is reversed in order to \n",
    "                                         # save time for transposing the matrix\n",
    "    return adj\n",
    "            "
   ]
  },
  {
   "cell_type": "code",
   "execution_count": 8,
   "id": "b2787950",
   "metadata": {},
   "outputs": [],
   "source": [
    "def invert(X):\n",
    "    '''inverts matrix'''\n",
    "    if np.linalg.det(X) == 0:\n",
    "        raise Exception('Passed singular matrix')\n",
    "    return adj(X) / np.linalg.det(X)"
   ]
  },
  {
   "cell_type": "code",
   "execution_count": 9,
   "id": "9d94f982",
   "metadata": {},
   "outputs": [
    {
     "data": {
      "text/plain": [
       "array([[ 1., -0., -0., -0., -0., -0.],\n",
       "       [ 0.,  1., -0., -0., -0., -0.],\n",
       "       [ 0., -0.,  1., -0., -0., -0.],\n",
       "       [ 0.,  0., -0.,  1., -0., -0.],\n",
       "       [ 0., -0., -0., -0.,  1., -0.],\n",
       "       [ 0., -0., -0.,  0., -0.,  1.]])"
      ]
     },
     "execution_count": 9,
     "metadata": {},
     "output_type": "execute_result"
    }
   ],
   "source": [
    "# Let's test:\n",
    "\n",
    "A = np.random.randint(0, 10, size=(6,6))\n",
    "np.round(A @ invert(A))"
   ]
  },
  {
   "cell_type": "code",
   "execution_count": 10,
   "id": "d5850119",
   "metadata": {},
   "outputs": [
    {
     "data": {
      "text/plain": [
       "<matplotlib.image.AxesImage at 0x247ff016e20>"
      ]
     },
     "execution_count": 10,
     "metadata": {},
     "output_type": "execute_result"
    },
    {
     "data": {
      "image/png": "[encoded data removed]",
      "text/plain": [
       "<Figure size 700x700 with 4 Axes>"
      ]
     },
     "metadata": {},
     "output_type": "display_data"
    }
   ],
   "source": [
    "fig, ((ax1, ax2), (ax3, ax4)) = plt.subplots(2,2)\n",
    "\n",
    "ax1.imshow(A)\n",
    "ax2.imshow(adj(A))\n",
    "ax3.imshow(invert(A))\n",
    "ax4.imshow(A @ invert(A))"
   ]
  },
  {
   "cell_type": "code",
   "execution_count": 11,
   "id": "b96ebe3c",
   "metadata": {},
   "outputs": [
    {
     "data": {
      "text/plain": [
       "<matplotlib.image.AxesImage at 0x247ff0dbee0>"
      ]
     },
     "execution_count": 11,
     "metadata": {},
     "output_type": "execute_result"
    },
    {
     "data": {
      "image/png": "[encoded data removed]",
      "text/plain": [
       "<Figure size 700x700 with 3 Axes>"
      ]
     },
     "metadata": {},
     "output_type": "display_data"
    }
   ],
   "source": [
    "fig, (ax1, ax2, ax3) = plt.subplots(1,3)\n",
    "\n",
    "ax1.imshow(invert(A))\n",
    "ax2.imshow(np.linalg.inv(A))\n",
    "ax3.imshow(invert(A) - np.linalg.inv(A))"
   ]
  },
  {
   "cell_type": "code",
   "execution_count": 12,
   "id": "07ba3eee",
   "metadata": {},
   "outputs": [
    {
     "data": {
      "text/plain": [
       "(array([[6, 4, 7, 2, 2, 5],\n",
       "        [3, 2, 9, 9, 6, 9],\n",
       "        [8, 9, 1, 6, 9, 7],\n",
       "        [2, 5, 3, 6, 2, 6],\n",
       "        [4, 6, 7, 1, 1, 3],\n",
       "        [6, 7, 3, 1, 1, 7]]),\n",
       " array([[ 0.52792091, -0.20607657,  0.03026833,  0.17725867, -0.26596435,\n",
       "         -0.1803504 ],\n",
       "        [-0.19764113, -0.02725295,  0.02771098,  0.04122295,  0.19912974,\n",
       "          0.02782549],\n",
       "        [-0.03252033,  0.06504065, -0.03252033, -0.07317073,  0.13821138,\n",
       "         -0.02439024],\n",
       "        [ 0.3565785 , -0.17794572,  0.00446582,  0.38680866, -0.17038818,\n",
       "         -0.28890416],\n",
       "        [-0.31356159,  0.18580862,  0.09958395, -0.3146685 ,  0.15775411,\n",
       "          0.08759876],\n",
       "        [-0.2470705 ,  0.17489217, -0.05458224, -0.17210581, -0.02858888,\n",
       "          0.30882858]]),\n",
       " array([[ 0.52792091, -0.20607657,  0.03026833,  0.17725867, -0.26596435,\n",
       "         -0.1803504 ],\n",
       "        [-0.19764113, -0.02725295,  0.02771098,  0.04122295,  0.19912974,\n",
       "          0.02782549],\n",
       "        [-0.03252033,  0.06504065, -0.03252033, -0.07317073,  0.13821138,\n",
       "         -0.02439024],\n",
       "        [ 0.3565785 , -0.17794572,  0.00446582,  0.38680866, -0.17038818,\n",
       "         -0.28890416],\n",
       "        [-0.31356159,  0.18580862,  0.09958395, -0.3146685 ,  0.15775411,\n",
       "          0.08759876],\n",
       "        [-0.2470705 ,  0.17489217, -0.05458224, -0.17210581, -0.02858888,\n",
       "          0.30882858]]))"
      ]
     },
     "execution_count": 12,
     "metadata": {},
     "output_type": "execute_result"
    }
   ],
   "source": [
    "A, invert(A), np.linalg.inv(A)"
   ]
  },
  {
   "cell_type": "code",
   "execution_count": 13,
   "id": "d3369b70",
   "metadata": {},
   "outputs": [
    {
     "ename": "Exception",
     "evalue": "Passed singular matrix",
     "output_type": "error",
     "traceback": [
      "\u001b[1;31m---------------------------------------------------------------------------\u001b[0m",
      "\u001b[1;31mException\u001b[0m                                 Traceback (most recent call last)",
      "\u001b[1;32m~\\AppData\\Local\\Temp\\ipykernel_10248\\865907138.py\u001b[0m in \u001b[0;36m<module>\u001b[1;34m\u001b[0m\n\u001b[0;32m      2\u001b[0m \u001b[0mB\u001b[0m \u001b[1;33m=\u001b[0m \u001b[0mnp\u001b[0m\u001b[1;33m.\u001b[0m\u001b[0mrandom\u001b[0m\u001b[1;33m.\u001b[0m\u001b[0mrandint\u001b[0m\u001b[1;33m(\u001b[0m\u001b[1;36m0\u001b[0m\u001b[1;33m,\u001b[0m \u001b[1;36m10\u001b[0m\u001b[1;33m,\u001b[0m \u001b[0msize\u001b[0m\u001b[1;33m=\u001b[0m\u001b[1;33m(\u001b[0m\u001b[1;36m6\u001b[0m\u001b[1;33m,\u001b[0m\u001b[1;36m5\u001b[0m\u001b[1;33m)\u001b[0m\u001b[1;33m)\u001b[0m\u001b[1;33m\u001b[0m\u001b[1;33m\u001b[0m\u001b[0m\n\u001b[0;32m      3\u001b[0m \u001b[0mB\u001b[0m \u001b[1;33m=\u001b[0m \u001b[0mnp\u001b[0m\u001b[1;33m.\u001b[0m\u001b[0mconcatenate\u001b[0m\u001b[1;33m(\u001b[0m\u001b[1;33m(\u001b[0m\u001b[0mB\u001b[0m\u001b[1;33m,\u001b[0m \u001b[0mB\u001b[0m\u001b[1;33m[\u001b[0m\u001b[1;33m:\u001b[0m\u001b[1;33m,\u001b[0m \u001b[1;33m[\u001b[0m\u001b[1;36m2\u001b[0m\u001b[1;33m]\u001b[0m\u001b[1;33m]\u001b[0m\u001b[1;33m*\u001b[0m\u001b[1;36m2\u001b[0m\u001b[1;33m)\u001b[0m\u001b[1;33m,\u001b[0m \u001b[0maxis\u001b[0m\u001b[1;33m=\u001b[0m\u001b[1;36m1\u001b[0m\u001b[1;33m)\u001b[0m\u001b[1;33m\u001b[0m\u001b[1;33m\u001b[0m\u001b[0m\n\u001b[1;32m----> 4\u001b[1;33m \u001b[0mnp\u001b[0m\u001b[1;33m.\u001b[0m\u001b[0mround\u001b[0m\u001b[1;33m(\u001b[0m\u001b[0mB\u001b[0m \u001b[1;33m@\u001b[0m \u001b[0minvert\u001b[0m\u001b[1;33m(\u001b[0m\u001b[0mB\u001b[0m\u001b[1;33m)\u001b[0m\u001b[1;33m)\u001b[0m \u001b[1;31m#> Exception: Passed singular matrix\u001b[0m\u001b[1;33m\u001b[0m\u001b[1;33m\u001b[0m\u001b[0m\n\u001b[0m",
      "\u001b[1;32m~\\AppData\\Local\\Temp\\ipykernel_10248\\3575555053.py\u001b[0m in \u001b[0;36minvert\u001b[1;34m(X)\u001b[0m\n\u001b[0;32m      2\u001b[0m     \u001b[1;34m'''inverts matrix'''\u001b[0m\u001b[1;33m\u001b[0m\u001b[1;33m\u001b[0m\u001b[0m\n\u001b[0;32m      3\u001b[0m     \u001b[1;32mif\u001b[0m \u001b[0mnp\u001b[0m\u001b[1;33m.\u001b[0m\u001b[0mlinalg\u001b[0m\u001b[1;33m.\u001b[0m\u001b[0mdet\u001b[0m\u001b[1;33m(\u001b[0m\u001b[0mX\u001b[0m\u001b[1;33m)\u001b[0m \u001b[1;33m==\u001b[0m \u001b[1;36m0\u001b[0m\u001b[1;33m:\u001b[0m\u001b[1;33m\u001b[0m\u001b[1;33m\u001b[0m\u001b[0m\n\u001b[1;32m----> 4\u001b[1;33m         \u001b[1;32mraise\u001b[0m \u001b[0mException\u001b[0m\u001b[1;33m(\u001b[0m\u001b[1;34m'Passed singular matrix'\u001b[0m\u001b[1;33m)\u001b[0m\u001b[1;33m\u001b[0m\u001b[1;33m\u001b[0m\u001b[0m\n\u001b[0m\u001b[0;32m      5\u001b[0m     \u001b[1;32mreturn\u001b[0m \u001b[0madj\u001b[0m\u001b[1;33m(\u001b[0m\u001b[0mX\u001b[0m\u001b[1;33m)\u001b[0m \u001b[1;33m/\u001b[0m \u001b[0mnp\u001b[0m\u001b[1;33m.\u001b[0m\u001b[0mlinalg\u001b[0m\u001b[1;33m.\u001b[0m\u001b[0mdet\u001b[0m\u001b[1;33m(\u001b[0m\u001b[0mX\u001b[0m\u001b[1;33m)\u001b[0m\u001b[1;33m\u001b[0m\u001b[1;33m\u001b[0m\u001b[0m\n",
      "\u001b[1;31mException\u001b[0m: Passed singular matrix"
     ]
    }
   ],
   "source": [
    "# Let's test-2: singular matrix\n",
    "B = np.random.randint(0, 10, size=(6,5))\n",
    "B = np.concatenate((B, B[:, [2]]*2), axis=1)\n",
    "np.round(B @ invert(B)) #> Exception: Passed singular matrix"
   ]
  },
  {
   "cell_type": "markdown",
   "id": "6ab145a6",
   "metadata": {},
   "source": [
    "### Exercise 8.3"
   ]
  },
  {
   "cell_type": "code",
   "execution_count": 14,
   "id": "423e36b3",
   "metadata": {},
   "outputs": [],
   "source": [
    "# Let us skip it since we already did the general case"
   ]
  },
  {
   "cell_type": "markdown",
   "id": "d40a121b",
   "metadata": {},
   "source": [
    "### Exercise 8.4\n",
    "\n",
    "Create right-inversed matrix"
   ]
  },
  {
   "cell_type": "markdown",
   "id": "84ce1afb",
   "metadata": {},
   "source": [
    "Well, the logic is the same as with the left inverted:\n",
    "\n",
    "We have the idea that \n",
    "\n",
    "$$ (AA^T)(AA^T)^{-1} = I <=> A(A^T(AA^T)^{-1}) = I $$\n",
    "\n",
    "And if (AA^T) is full-ranked (which **is** the case if A (long matrix) has the full row rank)\n",
    "Than we just have to find the \n",
    "$$ A^T(AA^T)^{-1} $$"
   ]
  },
  {
   "cell_type": "code",
   "execution_count": 16,
   "id": "7f66e17e",
   "metadata": {},
   "outputs": [],
   "source": [
    "# Let's proceed\n",
    "\n",
    "def right_invert(X):\n",
    "    if np.linalg.matrix_rank(X) < X.shape[0]:\n",
    "        raise Exception('Passed singular matrix')\n",
    "    return X.T @ np.linalg.inv(X @ X.T)"
   ]
  },
  {
   "cell_type": "code",
   "execution_count": 17,
   "id": "1ae541d4",
   "metadata": {},
   "outputs": [],
   "source": [
    "# test:\n",
    "\n",
    "A = np.random.randint(0, 10, size=(5,10))"
   ]
  },
  {
   "cell_type": "code",
   "execution_count": 18,
   "id": "8f09be27",
   "metadata": {},
   "outputs": [
    {
     "data": {
      "text/plain": [
       "array([[ 1., -0.,  0.,  0., -0.],\n",
       "       [ 0.,  1., -0.,  0., -0.],\n",
       "       [ 0., -0.,  1.,  0.,  0.],\n",
       "       [ 0.,  0.,  0.,  1., -0.],\n",
       "       [ 0.,  0., -0.,  0.,  1.]])"
      ]
     },
     "execution_count": 18,
     "metadata": {},
     "output_type": "execute_result"
    }
   ],
   "source": [
    "np.round(A @ right_invert(A))"
   ]
  },
  {
   "cell_type": "code",
   "execution_count": 19,
   "id": "d53dd01b",
   "metadata": {},
   "outputs": [
    {
     "data": {
      "text/plain": [
       "array([[-0.01101071, -0.0070765 ,  0.02200504, -0.10816612,  0.08261846],\n",
       "       [ 0.07782014,  0.04193178, -0.0836962 ,  0.0375972 , -0.0453164 ],\n",
       "       [ 0.10828364, -0.00982591, -0.08250826,  0.14040748, -0.07904772],\n",
       "       [-0.06573452, -0.01634754,  0.15870339, -0.17472584,  0.08323546],\n",
       "       [ 0.01254726, -0.01627231,  0.0003213 ,  0.01671118,  0.01556624],\n",
       "       [-0.01668223, -0.08798928, -0.02381605, -0.00609091,  0.12110393],\n",
       "       [-0.03316088,  0.0582459 ,  0.01337514,  0.01138182, -0.0312148 ],\n",
       "       [-0.01707286, -0.00695836,  0.05432626, -0.02229284,  0.01319981],\n",
       "       [ 0.00101268,  0.07711363, -0.02955217,  0.06380588, -0.08044093],\n",
       "       [-0.03213899,  0.01878675,  0.02364532,  0.03397669, -0.00724563]])"
      ]
     },
     "execution_count": 19,
     "metadata": {},
     "output_type": "execute_result"
    }
   ],
   "source": [
    "right_invert(A)"
   ]
  },
  {
   "cell_type": "code",
   "execution_count": 20,
   "id": "6db1b40c",
   "metadata": {},
   "outputs": [
    {
     "data": {
      "text/plain": [
       "<matplotlib.image.AxesImage at 0x247ff4e2f70>"
      ]
     },
     "execution_count": 20,
     "metadata": {},
     "output_type": "execute_result"
    },
    {
     "data": {
      "image/png": "[encoded data removed]",
      "text/plain": [
       "<Figure size 700x700 with 3 Axes>"
      ]
     },
     "metadata": {},
     "output_type": "display_data"
    }
   ],
   "source": [
    "fig, (ax1, ax2, ax3) = plt.subplots(1,3)\n",
    "\n",
    "ax1.imshow(A)\n",
    "ax2.imshow(right_invert(A))\n",
    "ax3.imshow(A @ right_invert(A))"
   ]
  },
  {
   "cell_type": "markdown",
   "id": "d63b831d",
   "metadata": {},
   "source": [
    "### Exercise 8.5\n",
    "\n",
    "Illustrate that:\n",
    "\n",
    "i) Pseudoinversed matrix equals inversed martix for full-ranked matrices\n",
    "\n",
    "ii) pseudoinversed matrix equals left-inversd and right-inversed matrices where they exist"
   ]
  },
  {
   "cell_type": "code",
   "execution_count": 22,
   "id": "18f14aed",
   "metadata": {},
   "outputs": [
    {
     "data": {
      "text/plain": [
       "1.2938106837124475e-15"
      ]
     },
     "execution_count": 22,
     "metadata": {},
     "output_type": "execute_result"
    }
   ],
   "source": [
    "A = np.random.randint(0,10, size=(5,5))\n",
    "frobenius_distance(np.linalg.inv(A), np.linalg.pinv(A))"
   ]
  },
  {
   "cell_type": "code",
   "execution_count": 156,
   "id": "c0d81451",
   "metadata": {},
   "outputs": [],
   "source": [
    "A = np.random.randint(0, 10, size=(5,10))"
   ]
  },
  {
   "cell_type": "code",
   "execution_count": 23,
   "id": "3e309157",
   "metadata": {},
   "outputs": [
    {
     "data": {
      "text/plain": [
       "4.811362435538465e-15"
      ]
     },
     "execution_count": 23,
     "metadata": {},
     "output_type": "execute_result"
    }
   ],
   "source": [
    "frobenius_distance(right_invert(A), np.linalg.pinv(A))"
   ]
  },
  {
   "cell_type": "code",
   "execution_count": 25,
   "id": "42b165b5",
   "metadata": {},
   "outputs": [],
   "source": [
    "def left_invert(X):\n",
    "    if np.linalg.matrix_rank(X) < X.shape[1]:\n",
    "        raise Exception('Passed singular matrix')\n",
    "    return np.linalg.inv(X.T @ X) @ X.T"
   ]
  },
  {
   "cell_type": "code",
   "execution_count": 26,
   "id": "fca0ed72",
   "metadata": {},
   "outputs": [
    {
     "data": {
      "text/plain": [
       "2.7032333782078695e-16"
      ]
     },
     "execution_count": 26,
     "metadata": {},
     "output_type": "execute_result"
    }
   ],
   "source": [
    "A = np.random.randint(0, 10, size=(10,5))\n",
    "frobenius_distance(left_invert(A), np.linalg.pinv(A))"
   ]
  },
  {
   "cell_type": "code",
   "execution_count": null,
   "id": "92193cf2",
   "metadata": {},
   "outputs": [],
   "source": []
  }
 ],
 "metadata": {
  "kernelspec": {
   "display_name": "Python 3 (ipykernel)",
   "language": "python",
   "name": "python3"
  },
  "language_info": {
   "codemirror_mode": {
    "name": "ipython",
    "version": 3
   },
   "file_extension": ".py",
   "mimetype": "text/x-python",
   "name": "python",
   "nbconvert_exporter": "python",
   "pygments_lexer": "ipython3",
   "version": "3.9.13"
  }
 },
 "nbformat": 4,
 "nbformat_minor": 5
}
