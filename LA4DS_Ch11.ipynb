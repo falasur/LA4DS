{
 "cells": [
  {
   "cell_type": "markdown",
   "id": "b95bde28",
   "metadata": {},
   "source": [
    "# Linear Algebra for Data science\n",
    "\n",
    "# Chapter 11"
   ]
  },
  {
   "cell_type": "code",
   "execution_count": 58,
   "id": "6c476a55",
   "metadata": {},
   "outputs": [],
   "source": [
    "import numpy as np\n",
    "import statsmodels.api as sm\n",
    "import matplotlib.pyplot as plt\n",
    "from statsmodels.tools.eval_measures import rmse\n",
    "from time import time\n",
    "\n",
    "plt.rcParams['figure.figsize'] = [12, 8]"
   ]
  },
  {
   "cell_type": "code",
   "execution_count": 45,
   "id": "8e236156",
   "metadata": {},
   "outputs": [],
   "source": [
    "# Fake data for courses & happiness relationship\n",
    "\n",
    "numcourses = [13,4,12,3,14,13,12,9,11,7,13,11,9,2,5,7,10,0,9,7]\n",
    "happiness  = [70,25,54,21,80,68,84,62,57,40,60,64,45,38,51,52,58,21,75,70]"
   ]
  },
  {
   "cell_type": "code",
   "execution_count": 46,
   "id": "d6ea8ee0",
   "metadata": {},
   "outputs": [
    {
     "data": {
      "text/plain": [
       "[<matplotlib.lines.Line2D at 0x7ff538d497f0>]"
      ]
     },
     "execution_count": 46,
     "metadata": {},
     "output_type": "execute_result"
    },
    {
     "data": {
      "image/png": "[encoded data removed]",
      "text/plain": [
       "<Figure size 864x576 with 1 Axes>"
      ]
     },
     "metadata": {
      "needs_background": "light"
     },
     "output_type": "display_data"
    }
   ],
   "source": [
    "plt.plot(numcourses, happiness, '.')"
   ]
  },
  {
   "cell_type": "code",
   "execution_count": 4,
   "id": "4e2957fc",
   "metadata": {},
   "outputs": [],
   "source": [
    "X = sm.add_constant(numcourses)\n",
    "Y = happiness"
   ]
  },
  {
   "cell_type": "code",
   "execution_count": 5,
   "id": "002f8be5",
   "metadata": {},
   "outputs": [],
   "source": [
    "model = sm.OLS(Y,X)"
   ]
  },
  {
   "cell_type": "code",
   "execution_count": 6,
   "id": "16d6c4a7",
   "metadata": {},
   "outputs": [
    {
     "data": {
      "text/plain": [
       "array([23.13033815,  3.69820606])"
      ]
     },
     "execution_count": 6,
     "metadata": {},
     "output_type": "execute_result"
    }
   ],
   "source": [
    "results = model.fit()\n",
    "results.params"
   ]
  },
  {
   "cell_type": "code",
   "execution_count": 7,
   "id": "87229cba",
   "metadata": {},
   "outputs": [
    {
     "data": {
      "text/plain": [
       "array([ 3.69820606, 23.13033815])"
      ]
     },
     "execution_count": 7,
     "metadata": {},
     "output_type": "execute_result"
    }
   ],
   "source": [
    "np.polyfit(numcourses,happiness, deg=1)"
   ]
  },
  {
   "cell_type": "code",
   "execution_count": 8,
   "id": "ebc58287",
   "metadata": {},
   "outputs": [],
   "source": [
    "xseq = np.linspace(0, 14, num=100)\n",
    "\n",
    "b1, b0 = np.polyfit(numcourses,happiness, deg=1)\n",
    "\n",
    "yseq = b0 + b1 * xseq"
   ]
  },
  {
   "cell_type": "code",
   "execution_count": 9,
   "id": "54355a69",
   "metadata": {},
   "outputs": [
    {
     "data": {
      "text/plain": [
       "[<matplotlib.lines.Line2D at 0x7ff5379c2d90>]"
      ]
     },
     "execution_count": 9,
     "metadata": {},
     "output_type": "execute_result"
    },
    {
     "data": {
      "image/png": "[encoded data removed]",
      "text/plain": [
       "<Figure size 432x288 with 1 Axes>"
      ]
     },
     "metadata": {
      "needs_background": "light"
     },
     "output_type": "display_data"
    }
   ],
   "source": [
    "plt.plot(numcourses, happiness, '.')\n",
    "plt.plot(xseq, yseq, 'C0')"
   ]
  },
  {
   "cell_type": "code",
   "execution_count": 10,
   "id": "d0f46b56",
   "metadata": {},
   "outputs": [
    {
     "data": {
      "text/plain": [
       "array([[ 1, 13],\n",
       "       [ 1,  4],\n",
       "       [ 1, 12],\n",
       "       [ 1,  3],\n",
       "       [ 1, 14],\n",
       "       [ 1, 13],\n",
       "       [ 1, 12],\n",
       "       [ 1,  9],\n",
       "       [ 1, 11],\n",
       "       [ 1,  7],\n",
       "       [ 1, 13],\n",
       "       [ 1, 11],\n",
       "       [ 1,  9],\n",
       "       [ 1,  2],\n",
       "       [ 1,  5],\n",
       "       [ 1,  7],\n",
       "       [ 1, 10],\n",
       "       [ 1,  0],\n",
       "       [ 1,  9],\n",
       "       [ 1,  7]])"
      ]
     },
     "execution_count": 10,
     "metadata": {},
     "output_type": "execute_result"
    }
   ],
   "source": [
    "# Now let's do the same algebra-style:\n",
    "\n",
    "A = np.array([[1]*len(numcourses), numcourses]).T\n",
    "A"
   ]
  },
  {
   "cell_type": "code",
   "execution_count": 11,
   "id": "fae66848",
   "metadata": {},
   "outputs": [
    {
     "data": {
      "text/plain": [
       "array([23.13033815,  3.69820606])"
      ]
     },
     "execution_count": 11,
     "metadata": {},
     "output_type": "execute_result"
    }
   ],
   "source": [
    "beta = np.linalg.inv(A.T @ A) @ A.T @ happiness\n",
    "beta"
   ]
  },
  {
   "cell_type": "markdown",
   "id": "03ad5a93",
   "metadata": {},
   "source": [
    "## Exercise 11.1"
   ]
  },
  {
   "cell_type": "code",
   "execution_count": 12,
   "id": "4c766952",
   "metadata": {},
   "outputs": [],
   "source": [
    "b1, b0 = np.polyfit(numcourses,happiness, deg=1)\n",
    "\n",
    "predictions = np.array([b0 + b1*x for x in numcourses])\n",
    "\n",
    "errors = np.array([(y - (b0 + b1*x)) for x,y in zip(numcourses, happiness)])"
   ]
  },
  {
   "cell_type": "code",
   "execution_count": 13,
   "id": "6e4e27a9",
   "metadata": {},
   "outputs": [
    {
     "data": {
      "text/plain": [
       "np.float64(10.479180517641677)"
      ]
     },
     "execution_count": 13,
     "metadata": {},
     "output_type": "execute_result"
    }
   ],
   "source": [
    "rmse(happiness, predictions)"
   ]
  },
  {
   "cell_type": "code",
   "execution_count": 14,
   "id": "66ab02d8",
   "metadata": {},
   "outputs": [
    {
     "data": {
      "text/plain": [
       "np.float64(10.479180517641677)"
      ]
     },
     "execution_count": 14,
     "metadata": {},
     "output_type": "execute_result"
    }
   ],
   "source": [
    "(((errors**2).sum() / len(happiness)))**0.5"
   ]
  },
  {
   "cell_type": "code",
   "execution_count": 15,
   "id": "5ac4c4f6",
   "metadata": {},
   "outputs": [
    {
     "data": {
      "text/plain": [
       "(np.float64(-9.947598300641402e-15), np.float64(109.81322432132083))"
      ]
     },
     "execution_count": 15,
     "metadata": {},
     "output_type": "execute_result"
    }
   ],
   "source": [
    "errors.mean(), errors.var()"
   ]
  },
  {
   "cell_type": "code",
   "execution_count": 16,
   "id": "b6d45013",
   "metadata": {},
   "outputs": [
    {
     "data": {
      "text/plain": [
       "np.float64(-9.947598300641402e-15)"
      ]
     },
     "execution_count": 16,
     "metadata": {},
     "output_type": "execute_result"
    }
   ],
   "source": [
    "np.mean(errors)"
   ]
  },
  {
   "cell_type": "code",
   "execution_count": 17,
   "id": "92d22a47",
   "metadata": {},
   "outputs": [
    {
     "data": {
      "text/plain": [
       "np.float64(-1.1596057447604835e-11)"
      ]
     },
     "execution_count": 17,
     "metadata": {},
     "output_type": "execute_result"
    }
   ],
   "source": [
    "errors @ predictions #> 1.9698259689533206e-11\n",
    "# close enough to zero"
   ]
  },
  {
   "cell_type": "code",
   "execution_count": 18,
   "id": "95401b3a",
   "metadata": {},
   "outputs": [
    {
     "data": {
      "text/plain": [
       "array([[ 1.00000000e+00, -2.75787476e-16],\n",
       "       [-2.75787476e-16,  1.00000000e+00]])"
      ]
     },
     "execution_count": 18,
     "metadata": {},
     "output_type": "execute_result"
    }
   ],
   "source": [
    "np.corrcoef(errors, predictions)"
   ]
  },
  {
   "cell_type": "markdown",
   "id": "ed19ce09",
   "metadata": {},
   "source": [
    "## Exercise 11.2\n",
    "\n",
    "Prove that vector of errors is ortogonal to the subspace of matrix"
   ]
  },
  {
   "cell_type": "code",
   "execution_count": 19,
   "id": "83162f9f",
   "metadata": {},
   "outputs": [
    {
     "data": {
      "text/plain": [
       "np.float64(-1.8474111129762605e-12)"
      ]
     },
     "execution_count": 19,
     "metadata": {},
     "output_type": "execute_result"
    }
   ],
   "source": [
    "# Illustration:\n",
    "\n",
    "numcourses @ errors"
   ]
  },
  {
   "cell_type": "markdown",
   "id": "d8de51a2",
   "metadata": {},
   "source": [
    "Analytical prove\n",
    "\n",
    "the intuition behind that is simple. If\n",
    "\n",
    "$$ A\\beta = Y + \\epsilon $$\n",
    "\n",
    "than epsilon is exactly the measure of declination of Y from the A-space, hence it would be ortogonal to it *Would it though?*\n",
    "\n",
    "But to prove it more rigorously: (*I failed to prove that myself but found the prove there: https://math.stackexchange.com/questions/3456100/proving-that-error-vector-to-least-squares-solution-is-orthogonal-to-the-columns*)\n",
    "\n",
    "$$A\\beta = Y + \\epsilon <=> \\epsilon = A\\beta - Y;$$\n",
    "\n",
    "We should prove that \n",
    "\n",
    "$$ A^T\\epsilon=0 <=> A^T(A\\beta - Y) = 0 $$\n",
    "\n",
    "Which is true beacuse\n",
    "\n",
    "$$ A^T(A\\beta - Y) = A^TA\\beta - A^TY = A^TA((A^TA)^{-1}A^TY) - A^TY = (A^TA)(A^TA)^{-1}(A^TY) - A^TY = IA^TY - A^TY = \\textbf{0}$$\n",
    "\n",
    "**EDIT: Actually, this is not correct. Formula**\n",
    "\n",
    "$$ \\beta = A^TA((A^TA)^{-1}A^TY) $$\n",
    "\n",
    "**relies on the fact that**\n",
    "$$A^T\\epsilon = 0$$\n",
    "\n",
    "**That's why we need another way to prove that**\n",
    "\n",
    "**EDIT2: On the second read, the whole thing is kinda explained in the chapter**"
   ]
  },
  {
   "cell_type": "markdown",
   "id": "28413e50",
   "metadata": {},
   "source": [
    "## Exercise 11.3"
   ]
  },
  {
   "cell_type": "code",
   "execution_count": 20,
   "id": "c57c3637",
   "metadata": {},
   "outputs": [],
   "source": [
    "#first, let's have a more intresting case:\n",
    "\n",
    "a0 = 2\n",
    "a1 = 2.343\n",
    "\n",
    "\n",
    "x = np.random.uniform(low=0, high=100, size=50)"
   ]
  },
  {
   "cell_type": "code",
   "execution_count": 21,
   "id": "fcac6223",
   "metadata": {},
   "outputs": [
    {
     "data": {
      "text/plain": [
       "np.float64(818.6093593961252)"
      ]
     },
     "execution_count": 21,
     "metadata": {},
     "output_type": "execute_result"
    }
   ],
   "source": [
    "x.var()"
   ]
  },
  {
   "cell_type": "code",
   "execution_count": 22,
   "id": "4cb26e7f",
   "metadata": {},
   "outputs": [],
   "source": [
    "y = [i * a1 + a0 + np.random.randn() * 2*x.var()**0.5 for i in x]"
   ]
  },
  {
   "cell_type": "code",
   "execution_count": 23,
   "id": "46fb7553",
   "metadata": {},
   "outputs": [
    {
     "data": {
      "text/plain": [
       "[<matplotlib.lines.Line2D at 0x7ff537a70340>]"
      ]
     },
     "execution_count": 23,
     "metadata": {},
     "output_type": "execute_result"
    },
    {
     "data": {
      "image/png": "[encoded data removed]",
      "text/plain": [
       "<Figure size 432x288 with 1 Axes>"
      ]
     },
     "metadata": {
      "needs_background": "light"
     },
     "output_type": "display_data"
    }
   ],
   "source": [
    "plt.plot(x, y, 'o')"
   ]
  },
  {
   "cell_type": "code",
   "execution_count": 24,
   "id": "f7970259",
   "metadata": {},
   "outputs": [
    {
     "data": {
      "text/plain": [
       "array([[1.        , 0.81711858],\n",
       "       [0.81711858, 1.        ]])"
      ]
     },
     "execution_count": 24,
     "metadata": {},
     "output_type": "execute_result"
    }
   ],
   "source": [
    "# Not bad\n",
    "\n",
    "# Let's check correlation\n",
    "\n",
    "np.corrcoef(y,x)"
   ]
  },
  {
   "cell_type": "code",
   "execution_count": 25,
   "id": "2f23df91",
   "metadata": {},
   "outputs": [],
   "source": [
    "X = sm.add_constant(x)\n",
    "Y = y"
   ]
  },
  {
   "cell_type": "code",
   "execution_count": 26,
   "id": "0e9ac9ad",
   "metadata": {},
   "outputs": [
    {
     "data": {
      "text/plain": [
       "array([-2.13743249,  2.34900175])"
      ]
     },
     "execution_count": 26,
     "metadata": {},
     "output_type": "execute_result"
    }
   ],
   "source": [
    "model = sm.OLS(Y, X)\n",
    "result = model.fit()\n",
    "result.params"
   ]
  },
  {
   "cell_type": "code",
   "execution_count": 47,
   "id": "0ca62c7b",
   "metadata": {},
   "outputs": [
    {
     "data": {
      "text/plain": [
       "[<matplotlib.lines.Line2D at 0x7ff538de5430>]"
      ]
     },
     "execution_count": 47,
     "metadata": {},
     "output_type": "execute_result"
    },
    {
     "data": {
      "image/png": "[encoded data removed]",
      "text/plain": [
       "<Figure size 864x576 with 1 Axes>"
      ]
     },
     "metadata": {
      "needs_background": "light"
     },
     "output_type": "display_data"
    }
   ],
   "source": [
    "plt.plot(x, y, 'o')\n",
    "\n",
    "xseq = np.linspace(0,100,100)\n",
    "yseq = sm.add_constant(xseq) @ result.params\n",
    "plt.plot(xseq, yseq, 'C0')"
   ]
  },
  {
   "cell_type": "code",
   "execution_count": 61,
   "id": "5ca9f65c",
   "metadata": {},
   "outputs": [
    {
     "name": "stdout",
     "output_type": "stream",
     "text": [
      "coefs are: (np.float64(-2.137432489793212), np.float64(2.3490017468282716)), execution time is 0.00022411346435546875\n"
     ]
    }
   ],
   "source": [
    "# Now to the exercise. \n",
    "\n",
    "#1) First (basic) way\n",
    "\n",
    "start = time()\n",
    "a0, a1 = np.linalg.inv(X.T @ X) @ X.T @ Y\n",
    "end=time()\n",
    "\n",
    "print(f'coefs are: {a0, a1}, execution time is {end-start}')"
   ]
  },
  {
   "cell_type": "code",
   "execution_count": 62,
   "id": "corporate-israel",
   "metadata": {},
   "outputs": [
    {
     "name": "stdout",
     "output_type": "stream",
     "text": [
      "coefs are: (np.float64(-2.137432489793212), np.float64(2.3490017468282716)), execution time is 0.0004038810729980469\n"
     ]
    }
   ],
   "source": [
    "#2) QR-decomposition way:\n",
    "\n",
    "start = time()\n",
    "q,r = np.linalg.qr(X)\n",
    "b0, b1 = np.linalg.inv(r) @ q.T @ Y\n",
    "end=time()\n",
    "\n",
    "print(f'coefs are: {a0, a1}, execution time is {end-start}')"
   ]
  },
  {
   "cell_type": "markdown",
   "id": "legendary-subscription",
   "metadata": {},
   "source": [
    "## Exercise 11.4"
   ]
  },
  {
   "cell_type": "code",
   "execution_count": 72,
   "id": "intermediate-bailey",
   "metadata": {},
   "outputs": [],
   "source": [
    "happiness_2 = happiness.copy()\n",
    "happiness_3 = happiness.copy()"
   ]
  },
  {
   "cell_type": "code",
   "execution_count": 73,
   "id": "expressed-march",
   "metadata": {},
   "outputs": [],
   "source": [
    "happiness_2[0] = 170\n",
    "happiness_3[-1] = 170"
   ]
  },
  {
   "cell_type": "code",
   "execution_count": 75,
   "id": "friendly-antenna",
   "metadata": {},
   "outputs": [],
   "source": [
    "X = sm.add_constant(numcourses)"
   ]
  },
  {
   "cell_type": "code",
   "execution_count": 77,
   "id": "australian-michigan",
   "metadata": {},
   "outputs": [
    {
     "data": {
      "text/plain": [
       "array([16.04984918,  5.11112875])"
      ]
     },
     "execution_count": 77,
     "metadata": {},
     "output_type": "execute_result"
    }
   ],
   "source": [
    "\n",
    "model_2 = sm.OLS(happiness_2, X)\n",
    "results_2 = model_2.fit()\n",
    "results_2.params"
   ]
  },
  {
   "cell_type": "code",
   "execution_count": 78,
   "id": "treated-agenda",
   "metadata": {},
   "outputs": [
    {
     "data": {
      "text/plain": [
       "array([32.33814891,  3.20606445])"
      ]
     },
     "execution_count": 78,
     "metadata": {},
     "output_type": "execute_result"
    }
   ],
   "source": [
    "model_3 = sm.OLS(happiness_3, X)\n",
    "results_3 = model_3.fit()\n",
    "results_3.params"
   ]
  },
  {
   "cell_type": "code",
   "execution_count": null,
   "id": "russian-triple",
   "metadata": {},
   "outputs": [],
   "source": [
    "fig, ax = plt.subplots"
   ]
  }
 ],
 "metadata": {
  "kernelspec": {
   "display_name": "Python 3",
   "language": "python",
   "name": "python3"
  },
  "language_info": {
   "codemirror_mode": {
    "name": "ipython",
    "version": 3
   },
   "file_extension": ".py",
   "mimetype": "text/x-python",
   "name": "python",
   "nbconvert_exporter": "python",
   "pygments_lexer": "ipython3",
   "version": "3.9.1"
  }
 },
 "nbformat": 4,
 "nbformat_minor": 5
}
