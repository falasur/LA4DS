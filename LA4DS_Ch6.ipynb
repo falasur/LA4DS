{
 "cells": [
  {
   "cell_type": "markdown",
   "id": "fa6dc76f",
   "metadata": {},
   "source": [
    "# Exercises from Linear Algebra for DS"
   ]
  },
  {
   "cell_type": "code",
   "execution_count": 1,
   "id": "0acd9ff8",
   "metadata": {},
   "outputs": [],
   "source": [
    "import numpy as np\n",
    "import math\n",
    "import matplotlib.pyplot as plt\n",
    "import seaborn as sns\n",
    "import plotly.graph_objects as go\n",
    "import plotly.io as pio\n",
    "import scipy\n",
    "\n",
    "pio.renderers.default='iframe'\n",
    "#plt.figure(figsize=(12, 12), dpi=80)\n",
    "plt.rcParams[\"figure.figsize\"] = (7,7)"
   ]
  },
  {
   "cell_type": "code",
   "execution_count": 2,
   "id": "941eb0be",
   "metadata": {},
   "outputs": [],
   "source": [
    "#function to create nd vectors in (0, 10, 0, 10)\n",
    "def vec(dim=2):\n",
    "    return np.random.rand(dim)*10\n",
    "\n",
    "# function to create row-vectors\n",
    "def row(dim=2):\n",
    "    return np.array([vec(dim=2)])"
   ]
  },
  {
   "cell_type": "markdown",
   "id": "271d540e",
   "metadata": {},
   "source": [
    "## Chapter 6"
   ]
  },
  {
   "cell_type": "markdown",
   "id": "400f525e",
   "metadata": {},
   "source": [
    "### Exercise 6.1\n",
    "\n",
    "Calculate frobenius norm"
   ]
  }
 ],
 "metadata": {
  "kernelspec": {
   "display_name": "Python 3 (ipykernel)",
   "language": "python",
   "name": "python3"
  },
  "language_info": {
   "codemirror_mode": {
    "name": "ipython",
    "version": 3
   },
   "file_extension": ".py",
   "mimetype": "text/x-python",
   "name": "python",
   "nbconvert_exporter": "python",
   "pygments_lexer": "ipython3",
   "version": "3.9.13"
  }
 },
 "nbformat": 4,
 "nbformat_minor": 5
}
