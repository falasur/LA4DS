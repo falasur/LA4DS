{
 "cells": [
  {
   "cell_type": "markdown",
   "id": "fa6dc76f",
   "metadata": {},
   "source": [
    "# Exercises from Linear Algebra for DS"
   ]
  },
  {
   "cell_type": "code",
   "execution_count": 1,
   "id": "0acd9ff8",
   "metadata": {},
   "outputs": [],
   "source": [
    "import numpy as np\n",
    "import math\n",
    "import matplotlib.pyplot as plt\n",
    "import seaborn as sns\n",
    "import plotly.graph_objects as go\n",
    "import plotly.io as pio\n",
    "import scipy\n",
    "\n",
    "pio.renderers.default='iframe'\n",
    "#plt.figure(figsize=(12, 12), dpi=80)\n",
    "plt.rcParams[\"figure.figsize\"] = (7,7)"
   ]
  },
  {
   "cell_type": "code",
   "execution_count": 2,
   "id": "941eb0be",
   "metadata": {},
   "outputs": [],
   "source": [
    "#function to create nd vectors in (0, 10, 0, 10)\n",
    "def vec(dim=2):\n",
    "    return np.random.rand(dim)*10\n",
    "\n",
    "# function to create row-vectors\n",
    "def row(dim=2):\n",
    "    return np.array([vec(dim=2)])"
   ]
  },
  {
   "cell_type": "markdown",
   "id": "271d540e",
   "metadata": {},
   "source": [
    "## Chapter 6"
   ]
  },
  {
   "cell_type": "markdown",
   "id": "400f525e",
   "metadata": {},
   "source": [
    "### Exercise 6.1\n",
    "\n",
    "Calculate frobenius norm"
   ]
  },
  {
   "cell_type": "code",
   "execution_count": 16,
   "id": "tight-residence",
   "metadata": {},
   "outputs": [],
   "source": [
    "def frobenius_norm(A):\n",
    "    return np.sum(A**2)**0.5"
   ]
  },
  {
   "cell_type": "code",
   "execution_count": 35,
   "id": "discrete-louisiana",
   "metadata": {},
   "outputs": [
    {
     "data": {
      "text/plain": [
       "<AxesSubplot:>"
      ]
     },
     "execution_count": 35,
     "metadata": {},
     "output_type": "execute_result"
    },
    {
     "data": {
      "image/png": "[encoded data removed]",
      "text/plain": [
       "<Figure size 504x504 with 1 Axes>"
      ]
     },
     "metadata": {
      "needs_background": "light"
     },
     "output_type": "display_data"
    }
   ],
   "source": [
    "matrix = []\n",
    "\n",
    "for x in np.arange(10):\n",
    "    A = np.random.rand(10,10)\n",
    "    matrix.append([frobenius_norm(A*x) for x in np.arange(50)])\n",
    "\n",
    "mean_norms = np.mean(matrix, axis=0)\n",
    "\n",
    "sns.scatterplot(x=np.arange(50), y=mean_norms)\n",
    "\n",
    "# I think I might be misunderstanding the exercise, because I have completely different picture"
   ]
  },
  {
   "cell_type": "markdown",
   "id": "piano-strip",
   "metadata": {},
   "source": [
    "### Exercise 6.2\n",
    "\n",
    "frobenius distance"
   ]
  },
  {
   "cell_type": "code",
   "execution_count": 67,
   "id": "musical-external",
   "metadata": {},
   "outputs": [],
   "source": [
    "def frobenius_distance(X, Y):\n",
    "    return frobenius_norm(X-Y)"
   ]
  },
  {
   "cell_type": "code",
   "execution_count": 68,
   "id": "regional-atlantic",
   "metadata": {},
   "outputs": [
    {
     "name": "stdout",
     "output_type": "stream",
     "text": [
      "Frobenius distance between X,Y is 0.9032574499568756, number of iterations is 5\n"
     ]
    },
    {
     "data": {
      "text/plain": [
       "[<matplotlib.lines.Line2D at 0x7fa341d6edc0>]"
      ]
     },
     "execution_count": 68,
     "metadata": {},
     "output_type": "execute_result"
    },
    {
     "data": {
      "image/png": "[encoded data removed]",
      "text/plain": [
       "<Figure size 504x504 with 2 Axes>"
      ]
     },
     "metadata": {
      "needs_background": "light"
     },
     "output_type": "display_data"
    }
   ],
   "source": [
    "X = np.random.rand(7,7)\n",
    "Y = np.random.rand(7,7)\n",
    "\n",
    "xfn = [frobenius_norm(X)]\n",
    "yfn = [frobenius_norm(Y)]\n",
    "\n",
    "fd = []\n",
    "\n",
    "s = 1\n",
    "\n",
    "while frobenius_distance(X,Y) > 1:\n",
    "    X = X * s\n",
    "    Y = Y * s\n",
    "    \n",
    "    s *= 0.9\n",
    "    \n",
    "    xfn.append(frobenius_norm(X))\n",
    "    yfn.append(frobenius_norm(Y))\n",
    "    \n",
    "    fd.append(frobenius_distance(X,Y))\n",
    "    \n",
    "print(f'Frobenius distance between X,Y is {frobenius_distance(X,Y)}, number of iterations is {round(math.log(s, 0.9))}')\n",
    "\n",
    "fig, (ax1, ax2) = plt.subplots(1,2)\n",
    "\n",
    "ax1.plot(fd)\n",
    "\n",
    "ax2.plot(xfn)\n",
    "ax2.plot(yfn)"
   ]
  },
  {
   "cell_type": "markdown",
   "id": "after-heaven",
   "metadata": {},
   "source": [
    "### Exercise 6.3\n",
    "\n",
    "Trace of matrix"
   ]
  },
  {
   "cell_type": "code",
   "execution_count": 82,
   "id": "running-boutique",
   "metadata": {},
   "outputs": [],
   "source": [
    "A = np.round(np.random.rand(10,10)*10)"
   ]
  },
  {
   "cell_type": "code",
   "execution_count": 83,
   "id": "packed-maintenance",
   "metadata": {},
   "outputs": [
    {
     "data": {
      "text/plain": [
       "True"
      ]
     },
     "execution_count": 83,
     "metadata": {},
     "output_type": "execute_result"
    }
   ],
   "source": [
    "frobenius_norm(A) == np.trace(A.T @ A)**0.5 # > True"
   ]
  },
  {
   "cell_type": "code",
   "execution_count": 84,
   "id": "changing-sponsorship",
   "metadata": {},
   "outputs": [
    {
     "data": {
      "text/plain": [
       "True"
      ]
     },
     "execution_count": 84,
     "metadata": {},
     "output_type": "execute_result"
    }
   ],
   "source": [
    "frobenius_norm(A) == np.trace(A @ A.T)**0.5 # > True"
   ]
  },
  {
   "cell_type": "code",
   "execution_count": null,
   "id": "secret-furniture",
   "metadata": {},
   "outputs": [],
   "source": []
  },
  {
   "cell_type": "code",
   "execution_count": null,
   "id": "senior-minimum",
   "metadata": {},
   "outputs": [],
   "source": []
  }
 ],
 "metadata": {
  "kernelspec": {
   "display_name": "Python 3",
   "language": "python",
   "name": "python3"
  },
  "language_info": {
   "codemirror_mode": {
    "name": "ipython",
    "version": 3
   },
   "file_extension": ".py",
   "mimetype": "text/x-python",
   "name": "python",
   "nbconvert_exporter": "python",
   "pygments_lexer": "ipython3",
   "version": "3.9.1"
  }
 },
 "nbformat": 4,
 "nbformat_minor": 5
}
